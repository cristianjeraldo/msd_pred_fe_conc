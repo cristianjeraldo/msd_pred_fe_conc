{
 "cells": [
  {
   "cell_type": "markdown",
   "id": "dda61226",
   "metadata": {},
   "source": [
    "# Model Tuning & Prediction"
   ]
  },
  {
   "cell_type": "code",
   "execution_count": 116,
   "id": "69ee14cf",
   "metadata": {},
   "outputs": [],
   "source": [
    "# Fundamental modules/libraries\n",
    "import pandas as pd\n",
    "import numpy as np\n",
    "\n",
    "# Model selection\n",
    "from sklearn.model_selection import GridSearchCV\n",
    "from sklearn.model_selection import train_test_split\n",
    "\n",
    "#Regression algorithms \n",
    "from sklearn.tree import DecisionTreeRegressor\n",
    "from sklearn.neighbors import KNeighborsRegressor\n",
    "from sklearn.svm import SVR\n",
    "from xgboost import XGBRegressor\n",
    "from sklearn.ensemble import RandomForestRegressor\n",
    "from sklearn.ensemble import GradientBoostingRegressor\n",
    "from catboost import CatBoostRegressor\n",
    "\n",
    "# Metrics\n",
    "from sklearn.metrics import mean_squared_error, mean_absolute_error, r2_score, max_error\n",
    "import math\n",
    "from sklearn.metrics import mean_squared_error as MSE\n",
    "\n",
    "# Visualization\n",
    "import matplotlib.pyplot as plt\n",
    "import seaborn as sns\n",
    "import plotly.graph_objects as go\n",
    "from scipy.stats import gaussian_kde\n",
    "\n"
   ]
  },
  {
   "cell_type": "code",
   "execution_count": 42,
   "id": "14cdc2d7",
   "metadata": {
    "collapsed": true
   },
   "outputs": [
    {
     "data": {
      "text/html": [
       "<div>\n",
       "<style scoped>\n",
       "    .dataframe tbody tr th:only-of-type {\n",
       "        vertical-align: middle;\n",
       "    }\n",
       "\n",
       "    .dataframe tbody tr th {\n",
       "        vertical-align: top;\n",
       "    }\n",
       "\n",
       "    .dataframe thead th {\n",
       "        text-align: right;\n",
       "    }\n",
       "</style>\n",
       "<table border=\"1\" class=\"dataframe\">\n",
       "  <thead>\n",
       "    <tr style=\"text-align: right;\">\n",
       "      <th></th>\n",
       "      <th>mid_x</th>\n",
       "      <th>mid_y</th>\n",
       "      <th>mid_z</th>\n",
       "      <th>DTT_Mass_Recovery</th>\n",
       "      <th>Fe_pct_DTT</th>\n",
       "      <th>Magnetite_pct</th>\n",
       "      <th>MS_Actual</th>\n",
       "      <th>Al_pct</th>\n",
       "      <th>As_ppm</th>\n",
       "      <th>Au_ppm</th>\n",
       "      <th>...</th>\n",
       "      <th>Py_M1_502</th>\n",
       "      <th>Py_M1_504</th>\n",
       "      <th>Py_M1_506</th>\n",
       "      <th>Py_M1_508</th>\n",
       "      <th>Py_M1_602</th>\n",
       "      <th>Py_M1_606</th>\n",
       "      <th>Py_M1_802</th>\n",
       "      <th>Py_M1_904</th>\n",
       "      <th>in</th>\n",
       "      <th>out</th>\n",
       "    </tr>\n",
       "  </thead>\n",
       "  <tbody>\n",
       "    <tr>\n",
       "      <th>0</th>\n",
       "      <td>0.317495</td>\n",
       "      <td>-0.316432</td>\n",
       "      <td>0.616804</td>\n",
       "      <td>-0.162436</td>\n",
       "      <td>0.000000</td>\n",
       "      <td>0.086398</td>\n",
       "      <td>-0.104394</td>\n",
       "      <td>0.953512</td>\n",
       "      <td>0.039191</td>\n",
       "      <td>0.213538</td>\n",
       "      <td>...</td>\n",
       "      <td>0.0</td>\n",
       "      <td>1.0</td>\n",
       "      <td>0.0</td>\n",
       "      <td>0.0</td>\n",
       "      <td>0.0</td>\n",
       "      <td>0.0</td>\n",
       "      <td>0.0</td>\n",
       "      <td>0.0</td>\n",
       "      <td>0.0</td>\n",
       "      <td>1.0</td>\n",
       "    </tr>\n",
       "    <tr>\n",
       "      <th>1</th>\n",
       "      <td>0.317495</td>\n",
       "      <td>-0.316432</td>\n",
       "      <td>0.609894</td>\n",
       "      <td>-0.162436</td>\n",
       "      <td>0.000000</td>\n",
       "      <td>0.086398</td>\n",
       "      <td>-0.104394</td>\n",
       "      <td>0.953512</td>\n",
       "      <td>0.039191</td>\n",
       "      <td>0.213538</td>\n",
       "      <td>...</td>\n",
       "      <td>0.0</td>\n",
       "      <td>1.0</td>\n",
       "      <td>0.0</td>\n",
       "      <td>0.0</td>\n",
       "      <td>0.0</td>\n",
       "      <td>0.0</td>\n",
       "      <td>0.0</td>\n",
       "      <td>0.0</td>\n",
       "      <td>0.0</td>\n",
       "      <td>1.0</td>\n",
       "    </tr>\n",
       "    <tr>\n",
       "      <th>2</th>\n",
       "      <td>0.317495</td>\n",
       "      <td>-0.316432</td>\n",
       "      <td>0.375653</td>\n",
       "      <td>-0.011765</td>\n",
       "      <td>0.000000</td>\n",
       "      <td>0.086398</td>\n",
       "      <td>-0.104807</td>\n",
       "      <td>1.040766</td>\n",
       "      <td>0.079646</td>\n",
       "      <td>-0.500747</td>\n",
       "      <td>...</td>\n",
       "      <td>0.0</td>\n",
       "      <td>1.0</td>\n",
       "      <td>0.0</td>\n",
       "      <td>0.0</td>\n",
       "      <td>0.0</td>\n",
       "      <td>0.0</td>\n",
       "      <td>0.0</td>\n",
       "      <td>0.0</td>\n",
       "      <td>0.0</td>\n",
       "      <td>1.0</td>\n",
       "    </tr>\n",
       "    <tr>\n",
       "      <th>3</th>\n",
       "      <td>0.317495</td>\n",
       "      <td>-0.316432</td>\n",
       "      <td>0.016346</td>\n",
       "      <td>-0.389061</td>\n",
       "      <td>-0.919347</td>\n",
       "      <td>-0.737695</td>\n",
       "      <td>-0.306394</td>\n",
       "      <td>2.180877</td>\n",
       "      <td>0.026549</td>\n",
       "      <td>-0.857890</td>\n",
       "      <td>...</td>\n",
       "      <td>0.0</td>\n",
       "      <td>0.0</td>\n",
       "      <td>0.0</td>\n",
       "      <td>0.0</td>\n",
       "      <td>0.0</td>\n",
       "      <td>0.0</td>\n",
       "      <td>0.0</td>\n",
       "      <td>0.0</td>\n",
       "      <td>0.0</td>\n",
       "      <td>1.0</td>\n",
       "    </tr>\n",
       "    <tr>\n",
       "      <th>4</th>\n",
       "      <td>0.317495</td>\n",
       "      <td>-0.316432</td>\n",
       "      <td>-0.163307</td>\n",
       "      <td>-0.351909</td>\n",
       "      <td>-0.727016</td>\n",
       "      <td>-0.647144</td>\n",
       "      <td>-0.269425</td>\n",
       "      <td>0.098428</td>\n",
       "      <td>0.034134</td>\n",
       "      <td>-0.976938</td>\n",
       "      <td>...</td>\n",
       "      <td>0.0</td>\n",
       "      <td>1.0</td>\n",
       "      <td>0.0</td>\n",
       "      <td>0.0</td>\n",
       "      <td>0.0</td>\n",
       "      <td>0.0</td>\n",
       "      <td>0.0</td>\n",
       "      <td>0.0</td>\n",
       "      <td>0.0</td>\n",
       "      <td>1.0</td>\n",
       "    </tr>\n",
       "    <tr>\n",
       "      <th>...</th>\n",
       "      <td>...</td>\n",
       "      <td>...</td>\n",
       "      <td>...</td>\n",
       "      <td>...</td>\n",
       "      <td>...</td>\n",
       "      <td>...</td>\n",
       "      <td>...</td>\n",
       "      <td>...</td>\n",
       "      <td>...</td>\n",
       "      <td>...</td>\n",
       "      <td>...</td>\n",
       "      <td>...</td>\n",
       "      <td>...</td>\n",
       "      <td>...</td>\n",
       "      <td>...</td>\n",
       "      <td>...</td>\n",
       "      <td>...</td>\n",
       "      <td>...</td>\n",
       "      <td>...</td>\n",
       "      <td>...</td>\n",
       "      <td>...</td>\n",
       "    </tr>\n",
       "    <tr>\n",
       "      <th>1883</th>\n",
       "      <td>-0.585775</td>\n",
       "      <td>0.695964</td>\n",
       "      <td>-4.366566</td>\n",
       "      <td>0.085655</td>\n",
       "      <td>-0.304640</td>\n",
       "      <td>-0.032796</td>\n",
       "      <td>0.143966</td>\n",
       "      <td>0.918611</td>\n",
       "      <td>0.005057</td>\n",
       "      <td>-1.488843</td>\n",
       "      <td>...</td>\n",
       "      <td>0.0</td>\n",
       "      <td>0.0</td>\n",
       "      <td>0.0</td>\n",
       "      <td>0.0</td>\n",
       "      <td>0.0</td>\n",
       "      <td>0.0</td>\n",
       "      <td>0.0</td>\n",
       "      <td>0.0</td>\n",
       "      <td>1.0</td>\n",
       "      <td>0.0</td>\n",
       "    </tr>\n",
       "    <tr>\n",
       "      <th>1884</th>\n",
       "      <td>0.629118</td>\n",
       "      <td>-0.122492</td>\n",
       "      <td>-0.737474</td>\n",
       "      <td>-0.302374</td>\n",
       "      <td>-0.449203</td>\n",
       "      <td>-0.814558</td>\n",
       "      <td>-0.290867</td>\n",
       "      <td>0.842991</td>\n",
       "      <td>0.032364</td>\n",
       "      <td>-0.691223</td>\n",
       "      <td>...</td>\n",
       "      <td>0.0</td>\n",
       "      <td>0.0</td>\n",
       "      <td>0.0</td>\n",
       "      <td>0.0</td>\n",
       "      <td>0.0</td>\n",
       "      <td>0.0</td>\n",
       "      <td>0.0</td>\n",
       "      <td>0.0</td>\n",
       "      <td>0.0</td>\n",
       "      <td>1.0</td>\n",
       "    </tr>\n",
       "    <tr>\n",
       "      <th>1885</th>\n",
       "      <td>-0.421836</td>\n",
       "      <td>1.751941</td>\n",
       "      <td>0.182162</td>\n",
       "      <td>0.655315</td>\n",
       "      <td>-0.825696</td>\n",
       "      <td>-0.115513</td>\n",
       "      <td>0.345343</td>\n",
       "      <td>1.325793</td>\n",
       "      <td>0.034640</td>\n",
       "      <td>-1.488843</td>\n",
       "      <td>...</td>\n",
       "      <td>0.0</td>\n",
       "      <td>0.0</td>\n",
       "      <td>0.0</td>\n",
       "      <td>0.0</td>\n",
       "      <td>0.0</td>\n",
       "      <td>0.0</td>\n",
       "      <td>0.0</td>\n",
       "      <td>0.0</td>\n",
       "      <td>0.0</td>\n",
       "      <td>1.0</td>\n",
       "    </tr>\n",
       "    <tr>\n",
       "      <th>1886</th>\n",
       "      <td>-0.422935</td>\n",
       "      <td>1.751990</td>\n",
       "      <td>-0.052747</td>\n",
       "      <td>-0.281734</td>\n",
       "      <td>-0.429718</td>\n",
       "      <td>-0.802000</td>\n",
       "      <td>0.345343</td>\n",
       "      <td>0.255484</td>\n",
       "      <td>0.099874</td>\n",
       "      <td>-1.286462</td>\n",
       "      <td>...</td>\n",
       "      <td>0.0</td>\n",
       "      <td>0.0</td>\n",
       "      <td>0.0</td>\n",
       "      <td>0.0</td>\n",
       "      <td>0.0</td>\n",
       "      <td>0.0</td>\n",
       "      <td>0.0</td>\n",
       "      <td>0.0</td>\n",
       "      <td>0.0</td>\n",
       "      <td>1.0</td>\n",
       "    </tr>\n",
       "    <tr>\n",
       "      <th>1887</th>\n",
       "      <td>-0.425248</td>\n",
       "      <td>1.752592</td>\n",
       "      <td>-0.564013</td>\n",
       "      <td>1.080495</td>\n",
       "      <td>-0.594395</td>\n",
       "      <td>0.358557</td>\n",
       "      <td>0.345343</td>\n",
       "      <td>1.337427</td>\n",
       "      <td>0.028319</td>\n",
       "      <td>-1.215033</td>\n",
       "      <td>...</td>\n",
       "      <td>0.0</td>\n",
       "      <td>0.0</td>\n",
       "      <td>0.0</td>\n",
       "      <td>0.0</td>\n",
       "      <td>0.0</td>\n",
       "      <td>0.0</td>\n",
       "      <td>0.0</td>\n",
       "      <td>0.0</td>\n",
       "      <td>0.0</td>\n",
       "      <td>1.0</td>\n",
       "    </tr>\n",
       "  </tbody>\n",
       "</table>\n",
       "<p>1888 rows × 118 columns</p>\n",
       "</div>"
      ],
      "text/plain": [
       "         mid_x     mid_y     mid_z  DTT_Mass_Recovery  Fe_pct_DTT  \\\n",
       "0     0.317495 -0.316432  0.616804          -0.162436    0.000000   \n",
       "1     0.317495 -0.316432  0.609894          -0.162436    0.000000   \n",
       "2     0.317495 -0.316432  0.375653          -0.011765    0.000000   \n",
       "3     0.317495 -0.316432  0.016346          -0.389061   -0.919347   \n",
       "4     0.317495 -0.316432 -0.163307          -0.351909   -0.727016   \n",
       "...        ...       ...       ...                ...         ...   \n",
       "1883 -0.585775  0.695964 -4.366566           0.085655   -0.304640   \n",
       "1884  0.629118 -0.122492 -0.737474          -0.302374   -0.449203   \n",
       "1885 -0.421836  1.751941  0.182162           0.655315   -0.825696   \n",
       "1886 -0.422935  1.751990 -0.052747          -0.281734   -0.429718   \n",
       "1887 -0.425248  1.752592 -0.564013           1.080495   -0.594395   \n",
       "\n",
       "      Magnetite_pct  MS_Actual    Al_pct    As_ppm    Au_ppm  ...  Py_M1_502  \\\n",
       "0          0.086398  -0.104394  0.953512  0.039191  0.213538  ...        0.0   \n",
       "1          0.086398  -0.104394  0.953512  0.039191  0.213538  ...        0.0   \n",
       "2          0.086398  -0.104807  1.040766  0.079646 -0.500747  ...        0.0   \n",
       "3         -0.737695  -0.306394  2.180877  0.026549 -0.857890  ...        0.0   \n",
       "4         -0.647144  -0.269425  0.098428  0.034134 -0.976938  ...        0.0   \n",
       "...             ...        ...       ...       ...       ...  ...        ...   \n",
       "1883      -0.032796   0.143966  0.918611  0.005057 -1.488843  ...        0.0   \n",
       "1884      -0.814558  -0.290867  0.842991  0.032364 -0.691223  ...        0.0   \n",
       "1885      -0.115513   0.345343  1.325793  0.034640 -1.488843  ...        0.0   \n",
       "1886      -0.802000   0.345343  0.255484  0.099874 -1.286462  ...        0.0   \n",
       "1887       0.358557   0.345343  1.337427  0.028319 -1.215033  ...        0.0   \n",
       "\n",
       "      Py_M1_504  Py_M1_506  Py_M1_508  Py_M1_602  Py_M1_606  Py_M1_802  \\\n",
       "0           1.0        0.0        0.0        0.0        0.0        0.0   \n",
       "1           1.0        0.0        0.0        0.0        0.0        0.0   \n",
       "2           1.0        0.0        0.0        0.0        0.0        0.0   \n",
       "3           0.0        0.0        0.0        0.0        0.0        0.0   \n",
       "4           1.0        0.0        0.0        0.0        0.0        0.0   \n",
       "...         ...        ...        ...        ...        ...        ...   \n",
       "1883        0.0        0.0        0.0        0.0        0.0        0.0   \n",
       "1884        0.0        0.0        0.0        0.0        0.0        0.0   \n",
       "1885        0.0        0.0        0.0        0.0        0.0        0.0   \n",
       "1886        0.0        0.0        0.0        0.0        0.0        0.0   \n",
       "1887        0.0        0.0        0.0        0.0        0.0        0.0   \n",
       "\n",
       "      Py_M1_904   in  out  \n",
       "0           0.0  0.0  1.0  \n",
       "1           0.0  0.0  1.0  \n",
       "2           0.0  0.0  1.0  \n",
       "3           0.0  0.0  1.0  \n",
       "4           0.0  0.0  1.0  \n",
       "...         ...  ...  ...  \n",
       "1883        0.0  1.0  0.0  \n",
       "1884        0.0  0.0  1.0  \n",
       "1885        0.0  0.0  1.0  \n",
       "1886        0.0  0.0  1.0  \n",
       "1887        0.0  0.0  1.0  \n",
       "\n",
       "[1888 rows x 118 columns]"
      ]
     },
     "execution_count": 42,
     "metadata": {},
     "output_type": "execute_result"
    }
   ],
   "source": [
    "# import train test database\n",
    "\n",
    "X = pd.read_csv('X.csv')\n",
    "X = X.drop(columns=['Unnamed: 0'])\n",
    "X"
   ]
  },
  {
   "cell_type": "code",
   "execution_count": 43,
   "id": "7a49209f",
   "metadata": {},
   "outputs": [
    {
     "data": {
      "text/plain": [
       "0       54.300000\n",
       "1       54.300000\n",
       "2       51.900000\n",
       "3       48.600000\n",
       "4       55.540000\n",
       "          ...    \n",
       "1883    63.076120\n",
       "1884    30.233566\n",
       "1885    34.377253\n",
       "1886    30.233566\n",
       "1887    39.288289\n",
       "Name: DTT_Fe_Conc_Grade, Length: 1888, dtype: float64"
      ]
     },
     "execution_count": 43,
     "metadata": {},
     "output_type": "execute_result"
    }
   ],
   "source": [
    "# import test test database\n",
    "\n",
    "y = pd.read_csv('y.csv')\n",
    "y = y.drop(columns=['Unnamed: 0'])\n",
    "y['DTT_Fe_Conc_Grade']"
   ]
  },
  {
   "cell_type": "code",
   "execution_count": 44,
   "id": "25e990db",
   "metadata": {},
   "outputs": [],
   "source": [
    "# Data split\n",
    "\n",
    "X_train, X_test, y_train, y_test = train_test_split(X, y, test_size=0.2, random_state=42)"
   ]
  },
  {
   "cell_type": "code",
   "execution_count": 45,
   "id": "5942a38e",
   "metadata": {},
   "outputs": [],
   "source": [
    "# Base model correspond to LinearRegression based on numerical features\n",
    "\n",
    "# Metrics\n",
    "base_model_r2 = 0.348\n",
    "base_model_nmsre = -7.30"
   ]
  },
  {
   "cell_type": "markdown",
   "id": "7bf4eb26",
   "metadata": {},
   "source": [
    "## Decision Tree Model"
   ]
  },
  {
   "cell_type": "code",
   "execution_count": 46,
   "id": "e1580147",
   "metadata": {},
   "outputs": [],
   "source": [
    "# GridsearchCV function will be used to conduct the hyperparameter tuning\n",
    "\n",
    "# Instantiate the grid search model\n",
    "tree = DecisionTreeRegressor(random_state=42)\n",
    "\n",
    "params = {\n",
    "    'max_depth': [10, 15, 20, 25, 30],\n",
    "    'min_samples_leaf': [3, 5, 10, 15],\n",
    "    }\n",
    "\n",
    "grid = GridSearchCV(estimator=tree, \n",
    "                           param_grid=params, \n",
    "                           cv=5, verbose=1)"
   ]
  },
  {
   "cell_type": "code",
   "execution_count": 47,
   "id": "f1dd367d",
   "metadata": {},
   "outputs": [
    {
     "name": "stdout",
     "output_type": "stream",
     "text": [
      "Fitting 5 folds for each of 20 candidates, totalling 100 fits\n"
     ]
    },
    {
     "data": {
      "text/plain": [
       "GridSearchCV(cv=5, estimator=DecisionTreeRegressor(random_state=42),\n",
       "             param_grid={'max_depth': [10, 15, 20, 25, 30],\n",
       "                         'min_samples_leaf': [3, 5, 10, 15]},\n",
       "             verbose=1)"
      ]
     },
     "execution_count": 47,
     "metadata": {},
     "output_type": "execute_result"
    }
   ],
   "source": [
    "grid.fit(X_train, y_train)"
   ]
  },
  {
   "cell_type": "code",
   "execution_count": 48,
   "id": "4ebc7367",
   "metadata": {
    "scrolled": true
   },
   "outputs": [
    {
     "name": "stdout",
     "output_type": "stream",
     "text": [
      "The best parameters are {'max_depth': 15, 'min_samples_leaf': 5} with a score of 0.720\n"
     ]
    }
   ],
   "source": [
    "print(f\"The best parameters are {grid.best_params_} with a score of {grid.best_score_:.3f}\")"
   ]
  },
  {
   "cell_type": "code",
   "execution_count": 50,
   "id": "f2b0e5ee",
   "metadata": {},
   "outputs": [
    {
     "data": {
      "text/html": [
       "<div>\n",
       "<style scoped>\n",
       "    .dataframe tbody tr th:only-of-type {\n",
       "        vertical-align: middle;\n",
       "    }\n",
       "\n",
       "    .dataframe tbody tr th {\n",
       "        vertical-align: top;\n",
       "    }\n",
       "\n",
       "    .dataframe thead th {\n",
       "        text-align: right;\n",
       "    }\n",
       "</style>\n",
       "<table border=\"1\" class=\"dataframe\">\n",
       "  <thead>\n",
       "    <tr style=\"text-align: right;\">\n",
       "      <th></th>\n",
       "      <th>max_depth</th>\n",
       "      <th>min_samples_leaf</th>\n",
       "      <th>r2</th>\n",
       "    </tr>\n",
       "  </thead>\n",
       "  <tbody>\n",
       "    <tr>\n",
       "      <th>0</th>\n",
       "      <td>10</td>\n",
       "      <td>3</td>\n",
       "      <td>0.672673</td>\n",
       "    </tr>\n",
       "    <tr>\n",
       "      <th>1</th>\n",
       "      <td>10</td>\n",
       "      <td>5</td>\n",
       "      <td>0.705476</td>\n",
       "    </tr>\n",
       "    <tr>\n",
       "      <th>2</th>\n",
       "      <td>10</td>\n",
       "      <td>10</td>\n",
       "      <td>0.678440</td>\n",
       "    </tr>\n",
       "    <tr>\n",
       "      <th>3</th>\n",
       "      <td>10</td>\n",
       "      <td>15</td>\n",
       "      <td>0.654386</td>\n",
       "    </tr>\n",
       "    <tr>\n",
       "      <th>4</th>\n",
       "      <td>15</td>\n",
       "      <td>3</td>\n",
       "      <td>0.691318</td>\n",
       "    </tr>\n",
       "    <tr>\n",
       "      <th>5</th>\n",
       "      <td>15</td>\n",
       "      <td>5</td>\n",
       "      <td>0.720176</td>\n",
       "    </tr>\n",
       "    <tr>\n",
       "      <th>6</th>\n",
       "      <td>15</td>\n",
       "      <td>10</td>\n",
       "      <td>0.680218</td>\n",
       "    </tr>\n",
       "    <tr>\n",
       "      <th>7</th>\n",
       "      <td>15</td>\n",
       "      <td>15</td>\n",
       "      <td>0.656640</td>\n",
       "    </tr>\n",
       "    <tr>\n",
       "      <th>8</th>\n",
       "      <td>20</td>\n",
       "      <td>3</td>\n",
       "      <td>0.700541</td>\n",
       "    </tr>\n",
       "    <tr>\n",
       "      <th>9</th>\n",
       "      <td>20</td>\n",
       "      <td>5</td>\n",
       "      <td>0.716695</td>\n",
       "    </tr>\n",
       "    <tr>\n",
       "      <th>10</th>\n",
       "      <td>20</td>\n",
       "      <td>10</td>\n",
       "      <td>0.680493</td>\n",
       "    </tr>\n",
       "    <tr>\n",
       "      <th>11</th>\n",
       "      <td>20</td>\n",
       "      <td>15</td>\n",
       "      <td>0.656594</td>\n",
       "    </tr>\n",
       "    <tr>\n",
       "      <th>12</th>\n",
       "      <td>25</td>\n",
       "      <td>3</td>\n",
       "      <td>0.689804</td>\n",
       "    </tr>\n",
       "    <tr>\n",
       "      <th>13</th>\n",
       "      <td>25</td>\n",
       "      <td>5</td>\n",
       "      <td>0.720073</td>\n",
       "    </tr>\n",
       "    <tr>\n",
       "      <th>14</th>\n",
       "      <td>25</td>\n",
       "      <td>10</td>\n",
       "      <td>0.680493</td>\n",
       "    </tr>\n",
       "    <tr>\n",
       "      <th>15</th>\n",
       "      <td>25</td>\n",
       "      <td>15</td>\n",
       "      <td>0.656594</td>\n",
       "    </tr>\n",
       "    <tr>\n",
       "      <th>16</th>\n",
       "      <td>30</td>\n",
       "      <td>3</td>\n",
       "      <td>0.687926</td>\n",
       "    </tr>\n",
       "    <tr>\n",
       "      <th>17</th>\n",
       "      <td>30</td>\n",
       "      <td>5</td>\n",
       "      <td>0.720073</td>\n",
       "    </tr>\n",
       "    <tr>\n",
       "      <th>18</th>\n",
       "      <td>30</td>\n",
       "      <td>10</td>\n",
       "      <td>0.680493</td>\n",
       "    </tr>\n",
       "    <tr>\n",
       "      <th>19</th>\n",
       "      <td>30</td>\n",
       "      <td>15</td>\n",
       "      <td>0.656594</td>\n",
       "    </tr>\n",
       "  </tbody>\n",
       "</table>\n",
       "</div>"
      ],
      "text/plain": [
       "    max_depth  min_samples_leaf        r2\n",
       "0          10                 3  0.672673\n",
       "1          10                 5  0.705476\n",
       "2          10                10  0.678440\n",
       "3          10                15  0.654386\n",
       "4          15                 3  0.691318\n",
       "5          15                 5  0.720176\n",
       "6          15                10  0.680218\n",
       "7          15                15  0.656640\n",
       "8          20                 3  0.700541\n",
       "9          20                 5  0.716695\n",
       "10         20                10  0.680493\n",
       "11         20                15  0.656594\n",
       "12         25                 3  0.689804\n",
       "13         25                 5  0.720073\n",
       "14         25                10  0.680493\n",
       "15         25                15  0.656594\n",
       "16         30                 3  0.687926\n",
       "17         30                 5  0.720073\n",
       "18         30                10  0.680493\n",
       "19         30                15  0.656594"
      ]
     },
     "execution_count": 50,
     "metadata": {},
     "output_type": "execute_result"
    }
   ],
   "source": [
    "grid_results = pd.concat([pd.DataFrame(grid.cv_results_['params']), pd.DataFrame(grid.cv_results_['mean_test_score'], columns=['r2'])], axis=1)\n",
    "grid_results"
   ]
  },
  {
   "cell_type": "code",
   "execution_count": 51,
   "id": "dabaade6",
   "metadata": {},
   "outputs": [],
   "source": [
    "grid_contour = grid_results.groupby(['max_depth','min_samples_leaf']).mean()"
   ]
  },
  {
   "cell_type": "code",
   "execution_count": 52,
   "id": "5a99244a",
   "metadata": {},
   "outputs": [
    {
     "data": {
      "text/html": [
       "<div>\n",
       "<style scoped>\n",
       "    .dataframe tbody tr th:only-of-type {\n",
       "        vertical-align: middle;\n",
       "    }\n",
       "\n",
       "    .dataframe tbody tr th {\n",
       "        vertical-align: top;\n",
       "    }\n",
       "\n",
       "    .dataframe thead tr th {\n",
       "        text-align: left;\n",
       "    }\n",
       "\n",
       "    .dataframe thead tr:last-of-type th {\n",
       "        text-align: right;\n",
       "    }\n",
       "</style>\n",
       "<table border=\"1\" class=\"dataframe\">\n",
       "  <thead>\n",
       "    <tr>\n",
       "      <th></th>\n",
       "      <th colspan=\"4\" halign=\"left\">r2</th>\n",
       "    </tr>\n",
       "    <tr>\n",
       "      <th>min_samples_leaf</th>\n",
       "      <th>3</th>\n",
       "      <th>5</th>\n",
       "      <th>10</th>\n",
       "      <th>15</th>\n",
       "    </tr>\n",
       "    <tr>\n",
       "      <th>max_depth</th>\n",
       "      <th></th>\n",
       "      <th></th>\n",
       "      <th></th>\n",
       "      <th></th>\n",
       "    </tr>\n",
       "  </thead>\n",
       "  <tbody>\n",
       "    <tr>\n",
       "      <th>10</th>\n",
       "      <td>0.672673</td>\n",
       "      <td>0.705476</td>\n",
       "      <td>0.678440</td>\n",
       "      <td>0.654386</td>\n",
       "    </tr>\n",
       "    <tr>\n",
       "      <th>15</th>\n",
       "      <td>0.691318</td>\n",
       "      <td>0.720176</td>\n",
       "      <td>0.680218</td>\n",
       "      <td>0.656640</td>\n",
       "    </tr>\n",
       "    <tr>\n",
       "      <th>20</th>\n",
       "      <td>0.700541</td>\n",
       "      <td>0.716695</td>\n",
       "      <td>0.680493</td>\n",
       "      <td>0.656594</td>\n",
       "    </tr>\n",
       "    <tr>\n",
       "      <th>25</th>\n",
       "      <td>0.689804</td>\n",
       "      <td>0.720073</td>\n",
       "      <td>0.680493</td>\n",
       "      <td>0.656594</td>\n",
       "    </tr>\n",
       "    <tr>\n",
       "      <th>30</th>\n",
       "      <td>0.687926</td>\n",
       "      <td>0.720073</td>\n",
       "      <td>0.680493</td>\n",
       "      <td>0.656594</td>\n",
       "    </tr>\n",
       "  </tbody>\n",
       "</table>\n",
       "</div>"
      ],
      "text/plain": [
       "                        r2                              \n",
       "min_samples_leaf        3         5         10        15\n",
       "max_depth                                               \n",
       "10                0.672673  0.705476  0.678440  0.654386\n",
       "15                0.691318  0.720176  0.680218  0.656640\n",
       "20                0.700541  0.716695  0.680493  0.656594\n",
       "25                0.689804  0.720073  0.680493  0.656594\n",
       "30                0.687926  0.720073  0.680493  0.656594"
      ]
     },
     "execution_count": 52,
     "metadata": {},
     "output_type": "execute_result"
    }
   ],
   "source": [
    "# Pivoting the data\n",
    "\n",
    "grid_reset = grid_contour.reset_index()\n",
    "grid_reset.columns = ['max_depth','min_samples_leaf','r2']\n",
    "grid_pivot = grid_reset.pivot('max_depth','min_samples_leaf')\n",
    "grid_pivot"
   ]
  },
  {
   "cell_type": "code",
   "execution_count": 53,
   "id": "c1aa0f5c",
   "metadata": {},
   "outputs": [],
   "source": [
    "x = grid_pivot.columns.levels[1].values\n",
    "y = grid_pivot.index.values\n",
    "z = grid_pivot.values"
   ]
  },
  {
   "cell_type": "code",
   "execution_count": 54,
   "id": "1460d73a",
   "metadata": {},
   "outputs": [
    {
     "data": {
      "application/vnd.plotly.v1+json": {
       "config": {
        "plotlyServerURL": "https://plot.ly"
       },
       "data": [
        {
         "type": "contour",
         "x": [
          3,
          5,
          10,
          15
         ],
         "y": [
          10,
          15,
          20,
          25,
          30
         ],
         "z": [
          [
           0.6726726845115817,
           0.7054761212216104,
           0.6784403340988264,
           0.6543861494863337
          ],
          [
           0.6913182652681884,
           0.7201756150422916,
           0.6802181390738593,
           0.6566400871342168
          ],
          [
           0.7005412358812056,
           0.7166954187919066,
           0.6804928279079749,
           0.6565936141029155
          ],
          [
           0.6898043730098375,
           0.7200728545829934,
           0.6804928279079749,
           0.6565936141029155
          ],
          [
           0.6879258355510044,
           0.7200728545829934,
           0.6804928279079749,
           0.6565936141029155
          ]
         ]
        }
       ],
       "layout": {
        "autosize": false,
        "height": 500,
        "margin": {
         "b": 65,
         "l": 65,
         "r": 50,
         "t": 90
        },
        "template": {
         "data": {
          "bar": [
           {
            "error_x": {
             "color": "#2a3f5f"
            },
            "error_y": {
             "color": "#2a3f5f"
            },
            "marker": {
             "line": {
              "color": "#E5ECF6",
              "width": 0.5
             },
             "pattern": {
              "fillmode": "overlay",
              "size": 10,
              "solidity": 0.2
             }
            },
            "type": "bar"
           }
          ],
          "barpolar": [
           {
            "marker": {
             "line": {
              "color": "#E5ECF6",
              "width": 0.5
             },
             "pattern": {
              "fillmode": "overlay",
              "size": 10,
              "solidity": 0.2
             }
            },
            "type": "barpolar"
           }
          ],
          "carpet": [
           {
            "aaxis": {
             "endlinecolor": "#2a3f5f",
             "gridcolor": "white",
             "linecolor": "white",
             "minorgridcolor": "white",
             "startlinecolor": "#2a3f5f"
            },
            "baxis": {
             "endlinecolor": "#2a3f5f",
             "gridcolor": "white",
             "linecolor": "white",
             "minorgridcolor": "white",
             "startlinecolor": "#2a3f5f"
            },
            "type": "carpet"
           }
          ],
          "choropleth": [
           {
            "colorbar": {
             "outlinewidth": 0,
             "ticks": ""
            },
            "type": "choropleth"
           }
          ],
          "contour": [
           {
            "colorbar": {
             "outlinewidth": 0,
             "ticks": ""
            },
            "colorscale": [
             [
              0,
              "#0d0887"
             ],
             [
              0.1111111111111111,
              "#46039f"
             ],
             [
              0.2222222222222222,
              "#7201a8"
             ],
             [
              0.3333333333333333,
              "#9c179e"
             ],
             [
              0.4444444444444444,
              "#bd3786"
             ],
             [
              0.5555555555555556,
              "#d8576b"
             ],
             [
              0.6666666666666666,
              "#ed7953"
             ],
             [
              0.7777777777777778,
              "#fb9f3a"
             ],
             [
              0.8888888888888888,
              "#fdca26"
             ],
             [
              1,
              "#f0f921"
             ]
            ],
            "type": "contour"
           }
          ],
          "contourcarpet": [
           {
            "colorbar": {
             "outlinewidth": 0,
             "ticks": ""
            },
            "type": "contourcarpet"
           }
          ],
          "heatmap": [
           {
            "colorbar": {
             "outlinewidth": 0,
             "ticks": ""
            },
            "colorscale": [
             [
              0,
              "#0d0887"
             ],
             [
              0.1111111111111111,
              "#46039f"
             ],
             [
              0.2222222222222222,
              "#7201a8"
             ],
             [
              0.3333333333333333,
              "#9c179e"
             ],
             [
              0.4444444444444444,
              "#bd3786"
             ],
             [
              0.5555555555555556,
              "#d8576b"
             ],
             [
              0.6666666666666666,
              "#ed7953"
             ],
             [
              0.7777777777777778,
              "#fb9f3a"
             ],
             [
              0.8888888888888888,
              "#fdca26"
             ],
             [
              1,
              "#f0f921"
             ]
            ],
            "type": "heatmap"
           }
          ],
          "heatmapgl": [
           {
            "colorbar": {
             "outlinewidth": 0,
             "ticks": ""
            },
            "colorscale": [
             [
              0,
              "#0d0887"
             ],
             [
              0.1111111111111111,
              "#46039f"
             ],
             [
              0.2222222222222222,
              "#7201a8"
             ],
             [
              0.3333333333333333,
              "#9c179e"
             ],
             [
              0.4444444444444444,
              "#bd3786"
             ],
             [
              0.5555555555555556,
              "#d8576b"
             ],
             [
              0.6666666666666666,
              "#ed7953"
             ],
             [
              0.7777777777777778,
              "#fb9f3a"
             ],
             [
              0.8888888888888888,
              "#fdca26"
             ],
             [
              1,
              "#f0f921"
             ]
            ],
            "type": "heatmapgl"
           }
          ],
          "histogram": [
           {
            "marker": {
             "pattern": {
              "fillmode": "overlay",
              "size": 10,
              "solidity": 0.2
             }
            },
            "type": "histogram"
           }
          ],
          "histogram2d": [
           {
            "colorbar": {
             "outlinewidth": 0,
             "ticks": ""
            },
            "colorscale": [
             [
              0,
              "#0d0887"
             ],
             [
              0.1111111111111111,
              "#46039f"
             ],
             [
              0.2222222222222222,
              "#7201a8"
             ],
             [
              0.3333333333333333,
              "#9c179e"
             ],
             [
              0.4444444444444444,
              "#bd3786"
             ],
             [
              0.5555555555555556,
              "#d8576b"
             ],
             [
              0.6666666666666666,
              "#ed7953"
             ],
             [
              0.7777777777777778,
              "#fb9f3a"
             ],
             [
              0.8888888888888888,
              "#fdca26"
             ],
             [
              1,
              "#f0f921"
             ]
            ],
            "type": "histogram2d"
           }
          ],
          "histogram2dcontour": [
           {
            "colorbar": {
             "outlinewidth": 0,
             "ticks": ""
            },
            "colorscale": [
             [
              0,
              "#0d0887"
             ],
             [
              0.1111111111111111,
              "#46039f"
             ],
             [
              0.2222222222222222,
              "#7201a8"
             ],
             [
              0.3333333333333333,
              "#9c179e"
             ],
             [
              0.4444444444444444,
              "#bd3786"
             ],
             [
              0.5555555555555556,
              "#d8576b"
             ],
             [
              0.6666666666666666,
              "#ed7953"
             ],
             [
              0.7777777777777778,
              "#fb9f3a"
             ],
             [
              0.8888888888888888,
              "#fdca26"
             ],
             [
              1,
              "#f0f921"
             ]
            ],
            "type": "histogram2dcontour"
           }
          ],
          "mesh3d": [
           {
            "colorbar": {
             "outlinewidth": 0,
             "ticks": ""
            },
            "type": "mesh3d"
           }
          ],
          "parcoords": [
           {
            "line": {
             "colorbar": {
              "outlinewidth": 0,
              "ticks": ""
             }
            },
            "type": "parcoords"
           }
          ],
          "pie": [
           {
            "automargin": true,
            "type": "pie"
           }
          ],
          "scatter": [
           {
            "marker": {
             "colorbar": {
              "outlinewidth": 0,
              "ticks": ""
             }
            },
            "type": "scatter"
           }
          ],
          "scatter3d": [
           {
            "line": {
             "colorbar": {
              "outlinewidth": 0,
              "ticks": ""
             }
            },
            "marker": {
             "colorbar": {
              "outlinewidth": 0,
              "ticks": ""
             }
            },
            "type": "scatter3d"
           }
          ],
          "scattercarpet": [
           {
            "marker": {
             "colorbar": {
              "outlinewidth": 0,
              "ticks": ""
             }
            },
            "type": "scattercarpet"
           }
          ],
          "scattergeo": [
           {
            "marker": {
             "colorbar": {
              "outlinewidth": 0,
              "ticks": ""
             }
            },
            "type": "scattergeo"
           }
          ],
          "scattergl": [
           {
            "marker": {
             "colorbar": {
              "outlinewidth": 0,
              "ticks": ""
             }
            },
            "type": "scattergl"
           }
          ],
          "scattermapbox": [
           {
            "marker": {
             "colorbar": {
              "outlinewidth": 0,
              "ticks": ""
             }
            },
            "type": "scattermapbox"
           }
          ],
          "scatterpolar": [
           {
            "marker": {
             "colorbar": {
              "outlinewidth": 0,
              "ticks": ""
             }
            },
            "type": "scatterpolar"
           }
          ],
          "scatterpolargl": [
           {
            "marker": {
             "colorbar": {
              "outlinewidth": 0,
              "ticks": ""
             }
            },
            "type": "scatterpolargl"
           }
          ],
          "scatterternary": [
           {
            "marker": {
             "colorbar": {
              "outlinewidth": 0,
              "ticks": ""
             }
            },
            "type": "scatterternary"
           }
          ],
          "surface": [
           {
            "colorbar": {
             "outlinewidth": 0,
             "ticks": ""
            },
            "colorscale": [
             [
              0,
              "#0d0887"
             ],
             [
              0.1111111111111111,
              "#46039f"
             ],
             [
              0.2222222222222222,
              "#7201a8"
             ],
             [
              0.3333333333333333,
              "#9c179e"
             ],
             [
              0.4444444444444444,
              "#bd3786"
             ],
             [
              0.5555555555555556,
              "#d8576b"
             ],
             [
              0.6666666666666666,
              "#ed7953"
             ],
             [
              0.7777777777777778,
              "#fb9f3a"
             ],
             [
              0.8888888888888888,
              "#fdca26"
             ],
             [
              1,
              "#f0f921"
             ]
            ],
            "type": "surface"
           }
          ],
          "table": [
           {
            "cells": {
             "fill": {
              "color": "#EBF0F8"
             },
             "line": {
              "color": "white"
             }
            },
            "header": {
             "fill": {
              "color": "#C8D4E3"
             },
             "line": {
              "color": "white"
             }
            },
            "type": "table"
           }
          ]
         },
         "layout": {
          "annotationdefaults": {
           "arrowcolor": "#2a3f5f",
           "arrowhead": 0,
           "arrowwidth": 1
          },
          "autotypenumbers": "strict",
          "coloraxis": {
           "colorbar": {
            "outlinewidth": 0,
            "ticks": ""
           }
          },
          "colorscale": {
           "diverging": [
            [
             0,
             "#8e0152"
            ],
            [
             0.1,
             "#c51b7d"
            ],
            [
             0.2,
             "#de77ae"
            ],
            [
             0.3,
             "#f1b6da"
            ],
            [
             0.4,
             "#fde0ef"
            ],
            [
             0.5,
             "#f7f7f7"
            ],
            [
             0.6,
             "#e6f5d0"
            ],
            [
             0.7,
             "#b8e186"
            ],
            [
             0.8,
             "#7fbc41"
            ],
            [
             0.9,
             "#4d9221"
            ],
            [
             1,
             "#276419"
            ]
           ],
           "sequential": [
            [
             0,
             "#0d0887"
            ],
            [
             0.1111111111111111,
             "#46039f"
            ],
            [
             0.2222222222222222,
             "#7201a8"
            ],
            [
             0.3333333333333333,
             "#9c179e"
            ],
            [
             0.4444444444444444,
             "#bd3786"
            ],
            [
             0.5555555555555556,
             "#d8576b"
            ],
            [
             0.6666666666666666,
             "#ed7953"
            ],
            [
             0.7777777777777778,
             "#fb9f3a"
            ],
            [
             0.8888888888888888,
             "#fdca26"
            ],
            [
             1,
             "#f0f921"
            ]
           ],
           "sequentialminus": [
            [
             0,
             "#0d0887"
            ],
            [
             0.1111111111111111,
             "#46039f"
            ],
            [
             0.2222222222222222,
             "#7201a8"
            ],
            [
             0.3333333333333333,
             "#9c179e"
            ],
            [
             0.4444444444444444,
             "#bd3786"
            ],
            [
             0.5555555555555556,
             "#d8576b"
            ],
            [
             0.6666666666666666,
             "#ed7953"
            ],
            [
             0.7777777777777778,
             "#fb9f3a"
            ],
            [
             0.8888888888888888,
             "#fdca26"
            ],
            [
             1,
             "#f0f921"
            ]
           ]
          },
          "colorway": [
           "#636efa",
           "#EF553B",
           "#00cc96",
           "#ab63fa",
           "#FFA15A",
           "#19d3f3",
           "#FF6692",
           "#B6E880",
           "#FF97FF",
           "#FECB52"
          ],
          "font": {
           "color": "#2a3f5f"
          },
          "geo": {
           "bgcolor": "white",
           "lakecolor": "white",
           "landcolor": "#E5ECF6",
           "showlakes": true,
           "showland": true,
           "subunitcolor": "white"
          },
          "hoverlabel": {
           "align": "left"
          },
          "hovermode": "closest",
          "mapbox": {
           "style": "light"
          },
          "paper_bgcolor": "white",
          "plot_bgcolor": "#E5ECF6",
          "polar": {
           "angularaxis": {
            "gridcolor": "white",
            "linecolor": "white",
            "ticks": ""
           },
           "bgcolor": "#E5ECF6",
           "radialaxis": {
            "gridcolor": "white",
            "linecolor": "white",
            "ticks": ""
           }
          },
          "scene": {
           "xaxis": {
            "backgroundcolor": "#E5ECF6",
            "gridcolor": "white",
            "gridwidth": 2,
            "linecolor": "white",
            "showbackground": true,
            "ticks": "",
            "zerolinecolor": "white"
           },
           "yaxis": {
            "backgroundcolor": "#E5ECF6",
            "gridcolor": "white",
            "gridwidth": 2,
            "linecolor": "white",
            "showbackground": true,
            "ticks": "",
            "zerolinecolor": "white"
           },
           "zaxis": {
            "backgroundcolor": "#E5ECF6",
            "gridcolor": "white",
            "gridwidth": 2,
            "linecolor": "white",
            "showbackground": true,
            "ticks": "",
            "zerolinecolor": "white"
           }
          },
          "shapedefaults": {
           "line": {
            "color": "#2a3f5f"
           }
          },
          "ternary": {
           "aaxis": {
            "gridcolor": "white",
            "linecolor": "white",
            "ticks": ""
           },
           "baxis": {
            "gridcolor": "white",
            "linecolor": "white",
            "ticks": ""
           },
           "bgcolor": "#E5ECF6",
           "caxis": {
            "gridcolor": "white",
            "linecolor": "white",
            "ticks": ""
           }
          },
          "title": {
           "x": 0.05
          },
          "xaxis": {
           "automargin": true,
           "gridcolor": "white",
           "linecolor": "white",
           "ticks": "",
           "title": {
            "standoff": 15
           },
           "zerolinecolor": "white",
           "zerolinewidth": 2
          },
          "yaxis": {
           "automargin": true,
           "gridcolor": "white",
           "linecolor": "white",
           "ticks": "",
           "title": {
            "standoff": 15
           },
           "zerolinecolor": "white",
           "zerolinewidth": 2
          }
         }
        },
        "title": {
         "text": "Hyperparameter tuning"
        },
        "width": 500,
        "xaxis": {
         "title": {
          "text": "max_depth"
         }
        },
        "yaxis": {
         "title": {
          "text": "min_samples_leaf"
         }
        }
       }
      },
      "text/html": [
       "<div>                            <div id=\"ba95ac73-fe27-44fa-bb64-ca28656d6e2a\" class=\"plotly-graph-div\" style=\"height:500px; width:500px;\"></div>            <script type=\"text/javascript\">                require([\"plotly\"], function(Plotly) {                    window.PLOTLYENV=window.PLOTLYENV || {};                                    if (document.getElementById(\"ba95ac73-fe27-44fa-bb64-ca28656d6e2a\")) {                    Plotly.newPlot(                        \"ba95ac73-fe27-44fa-bb64-ca28656d6e2a\",                        [{\"x\":[3,5,10,15],\"y\":[10,15,20,25,30],\"z\":[[0.6726726845115817,0.7054761212216104,0.6784403340988264,0.6543861494863337],[0.6913182652681884,0.7201756150422916,0.6802181390738593,0.6566400871342168],[0.7005412358812056,0.7166954187919066,0.6804928279079749,0.6565936141029155],[0.6898043730098375,0.7200728545829934,0.6804928279079749,0.6565936141029155],[0.6879258355510044,0.7200728545829934,0.6804928279079749,0.6565936141029155]],\"type\":\"contour\"}],                        {\"xaxis\":{\"title\":{\"text\":\"max_depth\"}},\"yaxis\":{\"title\":{\"text\":\"min_samples_leaf\"}},\"template\":{\"data\":{\"bar\":[{\"error_x\":{\"color\":\"#2a3f5f\"},\"error_y\":{\"color\":\"#2a3f5f\"},\"marker\":{\"line\":{\"color\":\"#E5ECF6\",\"width\":0.5},\"pattern\":{\"fillmode\":\"overlay\",\"size\":10,\"solidity\":0.2}},\"type\":\"bar\"}],\"barpolar\":[{\"marker\":{\"line\":{\"color\":\"#E5ECF6\",\"width\":0.5},\"pattern\":{\"fillmode\":\"overlay\",\"size\":10,\"solidity\":0.2}},\"type\":\"barpolar\"}],\"carpet\":[{\"aaxis\":{\"endlinecolor\":\"#2a3f5f\",\"gridcolor\":\"white\",\"linecolor\":\"white\",\"minorgridcolor\":\"white\",\"startlinecolor\":\"#2a3f5f\"},\"baxis\":{\"endlinecolor\":\"#2a3f5f\",\"gridcolor\":\"white\",\"linecolor\":\"white\",\"minorgridcolor\":\"white\",\"startlinecolor\":\"#2a3f5f\"},\"type\":\"carpet\"}],\"choropleth\":[{\"colorbar\":{\"outlinewidth\":0,\"ticks\":\"\"},\"type\":\"choropleth\"}],\"contour\":[{\"colorbar\":{\"outlinewidth\":0,\"ticks\":\"\"},\"colorscale\":[[0.0,\"#0d0887\"],[0.1111111111111111,\"#46039f\"],[0.2222222222222222,\"#7201a8\"],[0.3333333333333333,\"#9c179e\"],[0.4444444444444444,\"#bd3786\"],[0.5555555555555556,\"#d8576b\"],[0.6666666666666666,\"#ed7953\"],[0.7777777777777778,\"#fb9f3a\"],[0.8888888888888888,\"#fdca26\"],[1.0,\"#f0f921\"]],\"type\":\"contour\"}],\"contourcarpet\":[{\"colorbar\":{\"outlinewidth\":0,\"ticks\":\"\"},\"type\":\"contourcarpet\"}],\"heatmap\":[{\"colorbar\":{\"outlinewidth\":0,\"ticks\":\"\"},\"colorscale\":[[0.0,\"#0d0887\"],[0.1111111111111111,\"#46039f\"],[0.2222222222222222,\"#7201a8\"],[0.3333333333333333,\"#9c179e\"],[0.4444444444444444,\"#bd3786\"],[0.5555555555555556,\"#d8576b\"],[0.6666666666666666,\"#ed7953\"],[0.7777777777777778,\"#fb9f3a\"],[0.8888888888888888,\"#fdca26\"],[1.0,\"#f0f921\"]],\"type\":\"heatmap\"}],\"heatmapgl\":[{\"colorbar\":{\"outlinewidth\":0,\"ticks\":\"\"},\"colorscale\":[[0.0,\"#0d0887\"],[0.1111111111111111,\"#46039f\"],[0.2222222222222222,\"#7201a8\"],[0.3333333333333333,\"#9c179e\"],[0.4444444444444444,\"#bd3786\"],[0.5555555555555556,\"#d8576b\"],[0.6666666666666666,\"#ed7953\"],[0.7777777777777778,\"#fb9f3a\"],[0.8888888888888888,\"#fdca26\"],[1.0,\"#f0f921\"]],\"type\":\"heatmapgl\"}],\"histogram\":[{\"marker\":{\"pattern\":{\"fillmode\":\"overlay\",\"size\":10,\"solidity\":0.2}},\"type\":\"histogram\"}],\"histogram2d\":[{\"colorbar\":{\"outlinewidth\":0,\"ticks\":\"\"},\"colorscale\":[[0.0,\"#0d0887\"],[0.1111111111111111,\"#46039f\"],[0.2222222222222222,\"#7201a8\"],[0.3333333333333333,\"#9c179e\"],[0.4444444444444444,\"#bd3786\"],[0.5555555555555556,\"#d8576b\"],[0.6666666666666666,\"#ed7953\"],[0.7777777777777778,\"#fb9f3a\"],[0.8888888888888888,\"#fdca26\"],[1.0,\"#f0f921\"]],\"type\":\"histogram2d\"}],\"histogram2dcontour\":[{\"colorbar\":{\"outlinewidth\":0,\"ticks\":\"\"},\"colorscale\":[[0.0,\"#0d0887\"],[0.1111111111111111,\"#46039f\"],[0.2222222222222222,\"#7201a8\"],[0.3333333333333333,\"#9c179e\"],[0.4444444444444444,\"#bd3786\"],[0.5555555555555556,\"#d8576b\"],[0.6666666666666666,\"#ed7953\"],[0.7777777777777778,\"#fb9f3a\"],[0.8888888888888888,\"#fdca26\"],[1.0,\"#f0f921\"]],\"type\":\"histogram2dcontour\"}],\"mesh3d\":[{\"colorbar\":{\"outlinewidth\":0,\"ticks\":\"\"},\"type\":\"mesh3d\"}],\"parcoords\":[{\"line\":{\"colorbar\":{\"outlinewidth\":0,\"ticks\":\"\"}},\"type\":\"parcoords\"}],\"pie\":[{\"automargin\":true,\"type\":\"pie\"}],\"scatter\":[{\"marker\":{\"colorbar\":{\"outlinewidth\":0,\"ticks\":\"\"}},\"type\":\"scatter\"}],\"scatter3d\":[{\"line\":{\"colorbar\":{\"outlinewidth\":0,\"ticks\":\"\"}},\"marker\":{\"colorbar\":{\"outlinewidth\":0,\"ticks\":\"\"}},\"type\":\"scatter3d\"}],\"scattercarpet\":[{\"marker\":{\"colorbar\":{\"outlinewidth\":0,\"ticks\":\"\"}},\"type\":\"scattercarpet\"}],\"scattergeo\":[{\"marker\":{\"colorbar\":{\"outlinewidth\":0,\"ticks\":\"\"}},\"type\":\"scattergeo\"}],\"scattergl\":[{\"marker\":{\"colorbar\":{\"outlinewidth\":0,\"ticks\":\"\"}},\"type\":\"scattergl\"}],\"scattermapbox\":[{\"marker\":{\"colorbar\":{\"outlinewidth\":0,\"ticks\":\"\"}},\"type\":\"scattermapbox\"}],\"scatterpolar\":[{\"marker\":{\"colorbar\":{\"outlinewidth\":0,\"ticks\":\"\"}},\"type\":\"scatterpolar\"}],\"scatterpolargl\":[{\"marker\":{\"colorbar\":{\"outlinewidth\":0,\"ticks\":\"\"}},\"type\":\"scatterpolargl\"}],\"scatterternary\":[{\"marker\":{\"colorbar\":{\"outlinewidth\":0,\"ticks\":\"\"}},\"type\":\"scatterternary\"}],\"surface\":[{\"colorbar\":{\"outlinewidth\":0,\"ticks\":\"\"},\"colorscale\":[[0.0,\"#0d0887\"],[0.1111111111111111,\"#46039f\"],[0.2222222222222222,\"#7201a8\"],[0.3333333333333333,\"#9c179e\"],[0.4444444444444444,\"#bd3786\"],[0.5555555555555556,\"#d8576b\"],[0.6666666666666666,\"#ed7953\"],[0.7777777777777778,\"#fb9f3a\"],[0.8888888888888888,\"#fdca26\"],[1.0,\"#f0f921\"]],\"type\":\"surface\"}],\"table\":[{\"cells\":{\"fill\":{\"color\":\"#EBF0F8\"},\"line\":{\"color\":\"white\"}},\"header\":{\"fill\":{\"color\":\"#C8D4E3\"},\"line\":{\"color\":\"white\"}},\"type\":\"table\"}]},\"layout\":{\"annotationdefaults\":{\"arrowcolor\":\"#2a3f5f\",\"arrowhead\":0,\"arrowwidth\":1},\"autotypenumbers\":\"strict\",\"coloraxis\":{\"colorbar\":{\"outlinewidth\":0,\"ticks\":\"\"}},\"colorscale\":{\"diverging\":[[0,\"#8e0152\"],[0.1,\"#c51b7d\"],[0.2,\"#de77ae\"],[0.3,\"#f1b6da\"],[0.4,\"#fde0ef\"],[0.5,\"#f7f7f7\"],[0.6,\"#e6f5d0\"],[0.7,\"#b8e186\"],[0.8,\"#7fbc41\"],[0.9,\"#4d9221\"],[1,\"#276419\"]],\"sequential\":[[0.0,\"#0d0887\"],[0.1111111111111111,\"#46039f\"],[0.2222222222222222,\"#7201a8\"],[0.3333333333333333,\"#9c179e\"],[0.4444444444444444,\"#bd3786\"],[0.5555555555555556,\"#d8576b\"],[0.6666666666666666,\"#ed7953\"],[0.7777777777777778,\"#fb9f3a\"],[0.8888888888888888,\"#fdca26\"],[1.0,\"#f0f921\"]],\"sequentialminus\":[[0.0,\"#0d0887\"],[0.1111111111111111,\"#46039f\"],[0.2222222222222222,\"#7201a8\"],[0.3333333333333333,\"#9c179e\"],[0.4444444444444444,\"#bd3786\"],[0.5555555555555556,\"#d8576b\"],[0.6666666666666666,\"#ed7953\"],[0.7777777777777778,\"#fb9f3a\"],[0.8888888888888888,\"#fdca26\"],[1.0,\"#f0f921\"]]},\"colorway\":[\"#636efa\",\"#EF553B\",\"#00cc96\",\"#ab63fa\",\"#FFA15A\",\"#19d3f3\",\"#FF6692\",\"#B6E880\",\"#FF97FF\",\"#FECB52\"],\"font\":{\"color\":\"#2a3f5f\"},\"geo\":{\"bgcolor\":\"white\",\"lakecolor\":\"white\",\"landcolor\":\"#E5ECF6\",\"showlakes\":true,\"showland\":true,\"subunitcolor\":\"white\"},\"hoverlabel\":{\"align\":\"left\"},\"hovermode\":\"closest\",\"mapbox\":{\"style\":\"light\"},\"paper_bgcolor\":\"white\",\"plot_bgcolor\":\"#E5ECF6\",\"polar\":{\"angularaxis\":{\"gridcolor\":\"white\",\"linecolor\":\"white\",\"ticks\":\"\"},\"bgcolor\":\"#E5ECF6\",\"radialaxis\":{\"gridcolor\":\"white\",\"linecolor\":\"white\",\"ticks\":\"\"}},\"scene\":{\"xaxis\":{\"backgroundcolor\":\"#E5ECF6\",\"gridcolor\":\"white\",\"gridwidth\":2,\"linecolor\":\"white\",\"showbackground\":true,\"ticks\":\"\",\"zerolinecolor\":\"white\"},\"yaxis\":{\"backgroundcolor\":\"#E5ECF6\",\"gridcolor\":\"white\",\"gridwidth\":2,\"linecolor\":\"white\",\"showbackground\":true,\"ticks\":\"\",\"zerolinecolor\":\"white\"},\"zaxis\":{\"backgroundcolor\":\"#E5ECF6\",\"gridcolor\":\"white\",\"gridwidth\":2,\"linecolor\":\"white\",\"showbackground\":true,\"ticks\":\"\",\"zerolinecolor\":\"white\"}},\"shapedefaults\":{\"line\":{\"color\":\"#2a3f5f\"}},\"ternary\":{\"aaxis\":{\"gridcolor\":\"white\",\"linecolor\":\"white\",\"ticks\":\"\"},\"baxis\":{\"gridcolor\":\"white\",\"linecolor\":\"white\",\"ticks\":\"\"},\"bgcolor\":\"#E5ECF6\",\"caxis\":{\"gridcolor\":\"white\",\"linecolor\":\"white\",\"ticks\":\"\"}},\"title\":{\"x\":0.05},\"xaxis\":{\"automargin\":true,\"gridcolor\":\"white\",\"linecolor\":\"white\",\"ticks\":\"\",\"title\":{\"standoff\":15},\"zerolinecolor\":\"white\",\"zerolinewidth\":2},\"yaxis\":{\"automargin\":true,\"gridcolor\":\"white\",\"linecolor\":\"white\",\"ticks\":\"\",\"title\":{\"standoff\":15},\"zerolinecolor\":\"white\",\"zerolinewidth\":2}}},\"margin\":{\"l\":65,\"r\":50,\"b\":65,\"t\":90},\"title\":{\"text\":\"Hyperparameter tuning\"},\"autosize\":false,\"width\":500,\"height\":500},                        {\"responsive\": true}                    ).then(function(){\n",
       "                            \n",
       "var gd = document.getElementById('ba95ac73-fe27-44fa-bb64-ca28656d6e2a');\n",
       "var x = new MutationObserver(function (mutations, observer) {{\n",
       "        var display = window.getComputedStyle(gd).display;\n",
       "        if (!display || display === 'none') {{\n",
       "            console.log([gd, 'removed!']);\n",
       "            Plotly.purge(gd);\n",
       "            observer.disconnect();\n",
       "        }}\n",
       "}});\n",
       "\n",
       "// Listen for the removal of the full notebook cells\n",
       "var notebookContainer = gd.closest('#notebook-container');\n",
       "if (notebookContainer) {{\n",
       "    x.observe(notebookContainer, {childList: true});\n",
       "}}\n",
       "\n",
       "// Listen for the clearing of the current output cell\n",
       "var outputEl = gd.closest('.output');\n",
       "if (outputEl) {{\n",
       "    x.observe(outputEl, {childList: true});\n",
       "}}\n",
       "\n",
       "                        })                };                });            </script>        </div>"
      ]
     },
     "metadata": {},
     "output_type": "display_data"
    }
   ],
   "source": [
    "# Hyperparameter tuning 2D plot\n",
    "\n",
    "layout = go.Layout(\n",
    "            xaxis=go.layout.XAxis(\n",
    "            title=go.layout.xaxis.Title(\n",
    "            text='max_depth')\n",
    "            ),\n",
    "            yaxis=go.layout.YAxis(\n",
    "            title=go.layout.yaxis.Title(\n",
    "            text='min_samples_leaf')\n",
    "            ))\n",
    "\n",
    "fig = go.Figure(data = [go.Contour(z=z, x=x, y=y)], layout=layout)\n",
    "\n",
    "fig.update_layout(title='Hyperparameter tuning', autosize=False,\n",
    "                 width=500, height=500,\n",
    "                 margin=dict(l=65, r=50, b=65, t=90))\n",
    "\n",
    "fig.show()"
   ]
  },
  {
   "cell_type": "code",
   "execution_count": 55,
   "id": "4ca75560",
   "metadata": {},
   "outputs": [
    {
     "data": {
      "application/vnd.plotly.v1+json": {
       "config": {
        "plotlyServerURL": "https://plot.ly"
       },
       "data": [
        {
         "type": "surface",
         "x": [
          3,
          5,
          10,
          15
         ],
         "y": [
          10,
          15,
          20,
          25,
          30
         ],
         "z": [
          [
           0.6726726845115817,
           0.7054761212216104,
           0.6784403340988264,
           0.6543861494863337
          ],
          [
           0.6913182652681884,
           0.7201756150422916,
           0.6802181390738593,
           0.6566400871342168
          ],
          [
           0.7005412358812056,
           0.7166954187919066,
           0.6804928279079749,
           0.6565936141029155
          ],
          [
           0.6898043730098375,
           0.7200728545829934,
           0.6804928279079749,
           0.6565936141029155
          ],
          [
           0.6879258355510044,
           0.7200728545829934,
           0.6804928279079749,
           0.6565936141029155
          ]
         ]
        }
       ],
       "layout": {
        "autosize": false,
        "height": 500,
        "margin": {
         "b": 65,
         "l": 65,
         "r": 50,
         "t": 90
        },
        "scene": {
         "xaxis": {
          "title": {
           "text": "max_depth"
          }
         },
         "yaxis": {
          "title": {
           "text": "min_samples_leaf"
          }
         },
         "zaxis": {
          "title": {
           "text": "r^2"
          }
         }
        },
        "template": {
         "data": {
          "bar": [
           {
            "error_x": {
             "color": "#2a3f5f"
            },
            "error_y": {
             "color": "#2a3f5f"
            },
            "marker": {
             "line": {
              "color": "#E5ECF6",
              "width": 0.5
             },
             "pattern": {
              "fillmode": "overlay",
              "size": 10,
              "solidity": 0.2
             }
            },
            "type": "bar"
           }
          ],
          "barpolar": [
           {
            "marker": {
             "line": {
              "color": "#E5ECF6",
              "width": 0.5
             },
             "pattern": {
              "fillmode": "overlay",
              "size": 10,
              "solidity": 0.2
             }
            },
            "type": "barpolar"
           }
          ],
          "carpet": [
           {
            "aaxis": {
             "endlinecolor": "#2a3f5f",
             "gridcolor": "white",
             "linecolor": "white",
             "minorgridcolor": "white",
             "startlinecolor": "#2a3f5f"
            },
            "baxis": {
             "endlinecolor": "#2a3f5f",
             "gridcolor": "white",
             "linecolor": "white",
             "minorgridcolor": "white",
             "startlinecolor": "#2a3f5f"
            },
            "type": "carpet"
           }
          ],
          "choropleth": [
           {
            "colorbar": {
             "outlinewidth": 0,
             "ticks": ""
            },
            "type": "choropleth"
           }
          ],
          "contour": [
           {
            "colorbar": {
             "outlinewidth": 0,
             "ticks": ""
            },
            "colorscale": [
             [
              0,
              "#0d0887"
             ],
             [
              0.1111111111111111,
              "#46039f"
             ],
             [
              0.2222222222222222,
              "#7201a8"
             ],
             [
              0.3333333333333333,
              "#9c179e"
             ],
             [
              0.4444444444444444,
              "#bd3786"
             ],
             [
              0.5555555555555556,
              "#d8576b"
             ],
             [
              0.6666666666666666,
              "#ed7953"
             ],
             [
              0.7777777777777778,
              "#fb9f3a"
             ],
             [
              0.8888888888888888,
              "#fdca26"
             ],
             [
              1,
              "#f0f921"
             ]
            ],
            "type": "contour"
           }
          ],
          "contourcarpet": [
           {
            "colorbar": {
             "outlinewidth": 0,
             "ticks": ""
            },
            "type": "contourcarpet"
           }
          ],
          "heatmap": [
           {
            "colorbar": {
             "outlinewidth": 0,
             "ticks": ""
            },
            "colorscale": [
             [
              0,
              "#0d0887"
             ],
             [
              0.1111111111111111,
              "#46039f"
             ],
             [
              0.2222222222222222,
              "#7201a8"
             ],
             [
              0.3333333333333333,
              "#9c179e"
             ],
             [
              0.4444444444444444,
              "#bd3786"
             ],
             [
              0.5555555555555556,
              "#d8576b"
             ],
             [
              0.6666666666666666,
              "#ed7953"
             ],
             [
              0.7777777777777778,
              "#fb9f3a"
             ],
             [
              0.8888888888888888,
              "#fdca26"
             ],
             [
              1,
              "#f0f921"
             ]
            ],
            "type": "heatmap"
           }
          ],
          "heatmapgl": [
           {
            "colorbar": {
             "outlinewidth": 0,
             "ticks": ""
            },
            "colorscale": [
             [
              0,
              "#0d0887"
             ],
             [
              0.1111111111111111,
              "#46039f"
             ],
             [
              0.2222222222222222,
              "#7201a8"
             ],
             [
              0.3333333333333333,
              "#9c179e"
             ],
             [
              0.4444444444444444,
              "#bd3786"
             ],
             [
              0.5555555555555556,
              "#d8576b"
             ],
             [
              0.6666666666666666,
              "#ed7953"
             ],
             [
              0.7777777777777778,
              "#fb9f3a"
             ],
             [
              0.8888888888888888,
              "#fdca26"
             ],
             [
              1,
              "#f0f921"
             ]
            ],
            "type": "heatmapgl"
           }
          ],
          "histogram": [
           {
            "marker": {
             "pattern": {
              "fillmode": "overlay",
              "size": 10,
              "solidity": 0.2
             }
            },
            "type": "histogram"
           }
          ],
          "histogram2d": [
           {
            "colorbar": {
             "outlinewidth": 0,
             "ticks": ""
            },
            "colorscale": [
             [
              0,
              "#0d0887"
             ],
             [
              0.1111111111111111,
              "#46039f"
             ],
             [
              0.2222222222222222,
              "#7201a8"
             ],
             [
              0.3333333333333333,
              "#9c179e"
             ],
             [
              0.4444444444444444,
              "#bd3786"
             ],
             [
              0.5555555555555556,
              "#d8576b"
             ],
             [
              0.6666666666666666,
              "#ed7953"
             ],
             [
              0.7777777777777778,
              "#fb9f3a"
             ],
             [
              0.8888888888888888,
              "#fdca26"
             ],
             [
              1,
              "#f0f921"
             ]
            ],
            "type": "histogram2d"
           }
          ],
          "histogram2dcontour": [
           {
            "colorbar": {
             "outlinewidth": 0,
             "ticks": ""
            },
            "colorscale": [
             [
              0,
              "#0d0887"
             ],
             [
              0.1111111111111111,
              "#46039f"
             ],
             [
              0.2222222222222222,
              "#7201a8"
             ],
             [
              0.3333333333333333,
              "#9c179e"
             ],
             [
              0.4444444444444444,
              "#bd3786"
             ],
             [
              0.5555555555555556,
              "#d8576b"
             ],
             [
              0.6666666666666666,
              "#ed7953"
             ],
             [
              0.7777777777777778,
              "#fb9f3a"
             ],
             [
              0.8888888888888888,
              "#fdca26"
             ],
             [
              1,
              "#f0f921"
             ]
            ],
            "type": "histogram2dcontour"
           }
          ],
          "mesh3d": [
           {
            "colorbar": {
             "outlinewidth": 0,
             "ticks": ""
            },
            "type": "mesh3d"
           }
          ],
          "parcoords": [
           {
            "line": {
             "colorbar": {
              "outlinewidth": 0,
              "ticks": ""
             }
            },
            "type": "parcoords"
           }
          ],
          "pie": [
           {
            "automargin": true,
            "type": "pie"
           }
          ],
          "scatter": [
           {
            "marker": {
             "colorbar": {
              "outlinewidth": 0,
              "ticks": ""
             }
            },
            "type": "scatter"
           }
          ],
          "scatter3d": [
           {
            "line": {
             "colorbar": {
              "outlinewidth": 0,
              "ticks": ""
             }
            },
            "marker": {
             "colorbar": {
              "outlinewidth": 0,
              "ticks": ""
             }
            },
            "type": "scatter3d"
           }
          ],
          "scattercarpet": [
           {
            "marker": {
             "colorbar": {
              "outlinewidth": 0,
              "ticks": ""
             }
            },
            "type": "scattercarpet"
           }
          ],
          "scattergeo": [
           {
            "marker": {
             "colorbar": {
              "outlinewidth": 0,
              "ticks": ""
             }
            },
            "type": "scattergeo"
           }
          ],
          "scattergl": [
           {
            "marker": {
             "colorbar": {
              "outlinewidth": 0,
              "ticks": ""
             }
            },
            "type": "scattergl"
           }
          ],
          "scattermapbox": [
           {
            "marker": {
             "colorbar": {
              "outlinewidth": 0,
              "ticks": ""
             }
            },
            "type": "scattermapbox"
           }
          ],
          "scatterpolar": [
           {
            "marker": {
             "colorbar": {
              "outlinewidth": 0,
              "ticks": ""
             }
            },
            "type": "scatterpolar"
           }
          ],
          "scatterpolargl": [
           {
            "marker": {
             "colorbar": {
              "outlinewidth": 0,
              "ticks": ""
             }
            },
            "type": "scatterpolargl"
           }
          ],
          "scatterternary": [
           {
            "marker": {
             "colorbar": {
              "outlinewidth": 0,
              "ticks": ""
             }
            },
            "type": "scatterternary"
           }
          ],
          "surface": [
           {
            "colorbar": {
             "outlinewidth": 0,
             "ticks": ""
            },
            "colorscale": [
             [
              0,
              "#0d0887"
             ],
             [
              0.1111111111111111,
              "#46039f"
             ],
             [
              0.2222222222222222,
              "#7201a8"
             ],
             [
              0.3333333333333333,
              "#9c179e"
             ],
             [
              0.4444444444444444,
              "#bd3786"
             ],
             [
              0.5555555555555556,
              "#d8576b"
             ],
             [
              0.6666666666666666,
              "#ed7953"
             ],
             [
              0.7777777777777778,
              "#fb9f3a"
             ],
             [
              0.8888888888888888,
              "#fdca26"
             ],
             [
              1,
              "#f0f921"
             ]
            ],
            "type": "surface"
           }
          ],
          "table": [
           {
            "cells": {
             "fill": {
              "color": "#EBF0F8"
             },
             "line": {
              "color": "white"
             }
            },
            "header": {
             "fill": {
              "color": "#C8D4E3"
             },
             "line": {
              "color": "white"
             }
            },
            "type": "table"
           }
          ]
         },
         "layout": {
          "annotationdefaults": {
           "arrowcolor": "#2a3f5f",
           "arrowhead": 0,
           "arrowwidth": 1
          },
          "autotypenumbers": "strict",
          "coloraxis": {
           "colorbar": {
            "outlinewidth": 0,
            "ticks": ""
           }
          },
          "colorscale": {
           "diverging": [
            [
             0,
             "#8e0152"
            ],
            [
             0.1,
             "#c51b7d"
            ],
            [
             0.2,
             "#de77ae"
            ],
            [
             0.3,
             "#f1b6da"
            ],
            [
             0.4,
             "#fde0ef"
            ],
            [
             0.5,
             "#f7f7f7"
            ],
            [
             0.6,
             "#e6f5d0"
            ],
            [
             0.7,
             "#b8e186"
            ],
            [
             0.8,
             "#7fbc41"
            ],
            [
             0.9,
             "#4d9221"
            ],
            [
             1,
             "#276419"
            ]
           ],
           "sequential": [
            [
             0,
             "#0d0887"
            ],
            [
             0.1111111111111111,
             "#46039f"
            ],
            [
             0.2222222222222222,
             "#7201a8"
            ],
            [
             0.3333333333333333,
             "#9c179e"
            ],
            [
             0.4444444444444444,
             "#bd3786"
            ],
            [
             0.5555555555555556,
             "#d8576b"
            ],
            [
             0.6666666666666666,
             "#ed7953"
            ],
            [
             0.7777777777777778,
             "#fb9f3a"
            ],
            [
             0.8888888888888888,
             "#fdca26"
            ],
            [
             1,
             "#f0f921"
            ]
           ],
           "sequentialminus": [
            [
             0,
             "#0d0887"
            ],
            [
             0.1111111111111111,
             "#46039f"
            ],
            [
             0.2222222222222222,
             "#7201a8"
            ],
            [
             0.3333333333333333,
             "#9c179e"
            ],
            [
             0.4444444444444444,
             "#bd3786"
            ],
            [
             0.5555555555555556,
             "#d8576b"
            ],
            [
             0.6666666666666666,
             "#ed7953"
            ],
            [
             0.7777777777777778,
             "#fb9f3a"
            ],
            [
             0.8888888888888888,
             "#fdca26"
            ],
            [
             1,
             "#f0f921"
            ]
           ]
          },
          "colorway": [
           "#636efa",
           "#EF553B",
           "#00cc96",
           "#ab63fa",
           "#FFA15A",
           "#19d3f3",
           "#FF6692",
           "#B6E880",
           "#FF97FF",
           "#FECB52"
          ],
          "font": {
           "color": "#2a3f5f"
          },
          "geo": {
           "bgcolor": "white",
           "lakecolor": "white",
           "landcolor": "#E5ECF6",
           "showlakes": true,
           "showland": true,
           "subunitcolor": "white"
          },
          "hoverlabel": {
           "align": "left"
          },
          "hovermode": "closest",
          "mapbox": {
           "style": "light"
          },
          "paper_bgcolor": "white",
          "plot_bgcolor": "#E5ECF6",
          "polar": {
           "angularaxis": {
            "gridcolor": "white",
            "linecolor": "white",
            "ticks": ""
           },
           "bgcolor": "#E5ECF6",
           "radialaxis": {
            "gridcolor": "white",
            "linecolor": "white",
            "ticks": ""
           }
          },
          "scene": {
           "xaxis": {
            "backgroundcolor": "#E5ECF6",
            "gridcolor": "white",
            "gridwidth": 2,
            "linecolor": "white",
            "showbackground": true,
            "ticks": "",
            "zerolinecolor": "white"
           },
           "yaxis": {
            "backgroundcolor": "#E5ECF6",
            "gridcolor": "white",
            "gridwidth": 2,
            "linecolor": "white",
            "showbackground": true,
            "ticks": "",
            "zerolinecolor": "white"
           },
           "zaxis": {
            "backgroundcolor": "#E5ECF6",
            "gridcolor": "white",
            "gridwidth": 2,
            "linecolor": "white",
            "showbackground": true,
            "ticks": "",
            "zerolinecolor": "white"
           }
          },
          "shapedefaults": {
           "line": {
            "color": "#2a3f5f"
           }
          },
          "ternary": {
           "aaxis": {
            "gridcolor": "white",
            "linecolor": "white",
            "ticks": ""
           },
           "baxis": {
            "gridcolor": "white",
            "linecolor": "white",
            "ticks": ""
           },
           "bgcolor": "#E5ECF6",
           "caxis": {
            "gridcolor": "white",
            "linecolor": "white",
            "ticks": ""
           }
          },
          "title": {
           "x": 0.05
          },
          "xaxis": {
           "automargin": true,
           "gridcolor": "white",
           "linecolor": "white",
           "ticks": "",
           "title": {
            "standoff": 15
           },
           "zerolinecolor": "white",
           "zerolinewidth": 2
          },
          "yaxis": {
           "automargin": true,
           "gridcolor": "white",
           "linecolor": "white",
           "ticks": "",
           "title": {
            "standoff": 15
           },
           "zerolinecolor": "white",
           "zerolinewidth": 2
          }
         }
        },
        "title": {
         "text": "Hyperparameter tuning"
        },
        "width": 500,
        "xaxis": {
         "title": {
          "text": "max_depth"
         }
        },
        "yaxis": {
         "title": {
          "text": "min_samples_leaf"
         }
        }
       }
      },
      "text/html": [
       "<div>                            <div id=\"8ffa8581-a460-48a8-8e32-96c3c14fbbf9\" class=\"plotly-graph-div\" style=\"height:500px; width:500px;\"></div>            <script type=\"text/javascript\">                require([\"plotly\"], function(Plotly) {                    window.PLOTLYENV=window.PLOTLYENV || {};                                    if (document.getElementById(\"8ffa8581-a460-48a8-8e32-96c3c14fbbf9\")) {                    Plotly.newPlot(                        \"8ffa8581-a460-48a8-8e32-96c3c14fbbf9\",                        [{\"x\":[3,5,10,15],\"y\":[10,15,20,25,30],\"z\":[[0.6726726845115817,0.7054761212216104,0.6784403340988264,0.6543861494863337],[0.6913182652681884,0.7201756150422916,0.6802181390738593,0.6566400871342168],[0.7005412358812056,0.7166954187919066,0.6804928279079749,0.6565936141029155],[0.6898043730098375,0.7200728545829934,0.6804928279079749,0.6565936141029155],[0.6879258355510044,0.7200728545829934,0.6804928279079749,0.6565936141029155]],\"type\":\"surface\"}],                        {\"xaxis\":{\"title\":{\"text\":\"max_depth\"}},\"yaxis\":{\"title\":{\"text\":\"min_samples_leaf\"}},\"template\":{\"data\":{\"bar\":[{\"error_x\":{\"color\":\"#2a3f5f\"},\"error_y\":{\"color\":\"#2a3f5f\"},\"marker\":{\"line\":{\"color\":\"#E5ECF6\",\"width\":0.5},\"pattern\":{\"fillmode\":\"overlay\",\"size\":10,\"solidity\":0.2}},\"type\":\"bar\"}],\"barpolar\":[{\"marker\":{\"line\":{\"color\":\"#E5ECF6\",\"width\":0.5},\"pattern\":{\"fillmode\":\"overlay\",\"size\":10,\"solidity\":0.2}},\"type\":\"barpolar\"}],\"carpet\":[{\"aaxis\":{\"endlinecolor\":\"#2a3f5f\",\"gridcolor\":\"white\",\"linecolor\":\"white\",\"minorgridcolor\":\"white\",\"startlinecolor\":\"#2a3f5f\"},\"baxis\":{\"endlinecolor\":\"#2a3f5f\",\"gridcolor\":\"white\",\"linecolor\":\"white\",\"minorgridcolor\":\"white\",\"startlinecolor\":\"#2a3f5f\"},\"type\":\"carpet\"}],\"choropleth\":[{\"colorbar\":{\"outlinewidth\":0,\"ticks\":\"\"},\"type\":\"choropleth\"}],\"contour\":[{\"colorbar\":{\"outlinewidth\":0,\"ticks\":\"\"},\"colorscale\":[[0.0,\"#0d0887\"],[0.1111111111111111,\"#46039f\"],[0.2222222222222222,\"#7201a8\"],[0.3333333333333333,\"#9c179e\"],[0.4444444444444444,\"#bd3786\"],[0.5555555555555556,\"#d8576b\"],[0.6666666666666666,\"#ed7953\"],[0.7777777777777778,\"#fb9f3a\"],[0.8888888888888888,\"#fdca26\"],[1.0,\"#f0f921\"]],\"type\":\"contour\"}],\"contourcarpet\":[{\"colorbar\":{\"outlinewidth\":0,\"ticks\":\"\"},\"type\":\"contourcarpet\"}],\"heatmap\":[{\"colorbar\":{\"outlinewidth\":0,\"ticks\":\"\"},\"colorscale\":[[0.0,\"#0d0887\"],[0.1111111111111111,\"#46039f\"],[0.2222222222222222,\"#7201a8\"],[0.3333333333333333,\"#9c179e\"],[0.4444444444444444,\"#bd3786\"],[0.5555555555555556,\"#d8576b\"],[0.6666666666666666,\"#ed7953\"],[0.7777777777777778,\"#fb9f3a\"],[0.8888888888888888,\"#fdca26\"],[1.0,\"#f0f921\"]],\"type\":\"heatmap\"}],\"heatmapgl\":[{\"colorbar\":{\"outlinewidth\":0,\"ticks\":\"\"},\"colorscale\":[[0.0,\"#0d0887\"],[0.1111111111111111,\"#46039f\"],[0.2222222222222222,\"#7201a8\"],[0.3333333333333333,\"#9c179e\"],[0.4444444444444444,\"#bd3786\"],[0.5555555555555556,\"#d8576b\"],[0.6666666666666666,\"#ed7953\"],[0.7777777777777778,\"#fb9f3a\"],[0.8888888888888888,\"#fdca26\"],[1.0,\"#f0f921\"]],\"type\":\"heatmapgl\"}],\"histogram\":[{\"marker\":{\"pattern\":{\"fillmode\":\"overlay\",\"size\":10,\"solidity\":0.2}},\"type\":\"histogram\"}],\"histogram2d\":[{\"colorbar\":{\"outlinewidth\":0,\"ticks\":\"\"},\"colorscale\":[[0.0,\"#0d0887\"],[0.1111111111111111,\"#46039f\"],[0.2222222222222222,\"#7201a8\"],[0.3333333333333333,\"#9c179e\"],[0.4444444444444444,\"#bd3786\"],[0.5555555555555556,\"#d8576b\"],[0.6666666666666666,\"#ed7953\"],[0.7777777777777778,\"#fb9f3a\"],[0.8888888888888888,\"#fdca26\"],[1.0,\"#f0f921\"]],\"type\":\"histogram2d\"}],\"histogram2dcontour\":[{\"colorbar\":{\"outlinewidth\":0,\"ticks\":\"\"},\"colorscale\":[[0.0,\"#0d0887\"],[0.1111111111111111,\"#46039f\"],[0.2222222222222222,\"#7201a8\"],[0.3333333333333333,\"#9c179e\"],[0.4444444444444444,\"#bd3786\"],[0.5555555555555556,\"#d8576b\"],[0.6666666666666666,\"#ed7953\"],[0.7777777777777778,\"#fb9f3a\"],[0.8888888888888888,\"#fdca26\"],[1.0,\"#f0f921\"]],\"type\":\"histogram2dcontour\"}],\"mesh3d\":[{\"colorbar\":{\"outlinewidth\":0,\"ticks\":\"\"},\"type\":\"mesh3d\"}],\"parcoords\":[{\"line\":{\"colorbar\":{\"outlinewidth\":0,\"ticks\":\"\"}},\"type\":\"parcoords\"}],\"pie\":[{\"automargin\":true,\"type\":\"pie\"}],\"scatter\":[{\"marker\":{\"colorbar\":{\"outlinewidth\":0,\"ticks\":\"\"}},\"type\":\"scatter\"}],\"scatter3d\":[{\"line\":{\"colorbar\":{\"outlinewidth\":0,\"ticks\":\"\"}},\"marker\":{\"colorbar\":{\"outlinewidth\":0,\"ticks\":\"\"}},\"type\":\"scatter3d\"}],\"scattercarpet\":[{\"marker\":{\"colorbar\":{\"outlinewidth\":0,\"ticks\":\"\"}},\"type\":\"scattercarpet\"}],\"scattergeo\":[{\"marker\":{\"colorbar\":{\"outlinewidth\":0,\"ticks\":\"\"}},\"type\":\"scattergeo\"}],\"scattergl\":[{\"marker\":{\"colorbar\":{\"outlinewidth\":0,\"ticks\":\"\"}},\"type\":\"scattergl\"}],\"scattermapbox\":[{\"marker\":{\"colorbar\":{\"outlinewidth\":0,\"ticks\":\"\"}},\"type\":\"scattermapbox\"}],\"scatterpolar\":[{\"marker\":{\"colorbar\":{\"outlinewidth\":0,\"ticks\":\"\"}},\"type\":\"scatterpolar\"}],\"scatterpolargl\":[{\"marker\":{\"colorbar\":{\"outlinewidth\":0,\"ticks\":\"\"}},\"type\":\"scatterpolargl\"}],\"scatterternary\":[{\"marker\":{\"colorbar\":{\"outlinewidth\":0,\"ticks\":\"\"}},\"type\":\"scatterternary\"}],\"surface\":[{\"colorbar\":{\"outlinewidth\":0,\"ticks\":\"\"},\"colorscale\":[[0.0,\"#0d0887\"],[0.1111111111111111,\"#46039f\"],[0.2222222222222222,\"#7201a8\"],[0.3333333333333333,\"#9c179e\"],[0.4444444444444444,\"#bd3786\"],[0.5555555555555556,\"#d8576b\"],[0.6666666666666666,\"#ed7953\"],[0.7777777777777778,\"#fb9f3a\"],[0.8888888888888888,\"#fdca26\"],[1.0,\"#f0f921\"]],\"type\":\"surface\"}],\"table\":[{\"cells\":{\"fill\":{\"color\":\"#EBF0F8\"},\"line\":{\"color\":\"white\"}},\"header\":{\"fill\":{\"color\":\"#C8D4E3\"},\"line\":{\"color\":\"white\"}},\"type\":\"table\"}]},\"layout\":{\"annotationdefaults\":{\"arrowcolor\":\"#2a3f5f\",\"arrowhead\":0,\"arrowwidth\":1},\"autotypenumbers\":\"strict\",\"coloraxis\":{\"colorbar\":{\"outlinewidth\":0,\"ticks\":\"\"}},\"colorscale\":{\"diverging\":[[0,\"#8e0152\"],[0.1,\"#c51b7d\"],[0.2,\"#de77ae\"],[0.3,\"#f1b6da\"],[0.4,\"#fde0ef\"],[0.5,\"#f7f7f7\"],[0.6,\"#e6f5d0\"],[0.7,\"#b8e186\"],[0.8,\"#7fbc41\"],[0.9,\"#4d9221\"],[1,\"#276419\"]],\"sequential\":[[0.0,\"#0d0887\"],[0.1111111111111111,\"#46039f\"],[0.2222222222222222,\"#7201a8\"],[0.3333333333333333,\"#9c179e\"],[0.4444444444444444,\"#bd3786\"],[0.5555555555555556,\"#d8576b\"],[0.6666666666666666,\"#ed7953\"],[0.7777777777777778,\"#fb9f3a\"],[0.8888888888888888,\"#fdca26\"],[1.0,\"#f0f921\"]],\"sequentialminus\":[[0.0,\"#0d0887\"],[0.1111111111111111,\"#46039f\"],[0.2222222222222222,\"#7201a8\"],[0.3333333333333333,\"#9c179e\"],[0.4444444444444444,\"#bd3786\"],[0.5555555555555556,\"#d8576b\"],[0.6666666666666666,\"#ed7953\"],[0.7777777777777778,\"#fb9f3a\"],[0.8888888888888888,\"#fdca26\"],[1.0,\"#f0f921\"]]},\"colorway\":[\"#636efa\",\"#EF553B\",\"#00cc96\",\"#ab63fa\",\"#FFA15A\",\"#19d3f3\",\"#FF6692\",\"#B6E880\",\"#FF97FF\",\"#FECB52\"],\"font\":{\"color\":\"#2a3f5f\"},\"geo\":{\"bgcolor\":\"white\",\"lakecolor\":\"white\",\"landcolor\":\"#E5ECF6\",\"showlakes\":true,\"showland\":true,\"subunitcolor\":\"white\"},\"hoverlabel\":{\"align\":\"left\"},\"hovermode\":\"closest\",\"mapbox\":{\"style\":\"light\"},\"paper_bgcolor\":\"white\",\"plot_bgcolor\":\"#E5ECF6\",\"polar\":{\"angularaxis\":{\"gridcolor\":\"white\",\"linecolor\":\"white\",\"ticks\":\"\"},\"bgcolor\":\"#E5ECF6\",\"radialaxis\":{\"gridcolor\":\"white\",\"linecolor\":\"white\",\"ticks\":\"\"}},\"scene\":{\"xaxis\":{\"backgroundcolor\":\"#E5ECF6\",\"gridcolor\":\"white\",\"gridwidth\":2,\"linecolor\":\"white\",\"showbackground\":true,\"ticks\":\"\",\"zerolinecolor\":\"white\"},\"yaxis\":{\"backgroundcolor\":\"#E5ECF6\",\"gridcolor\":\"white\",\"gridwidth\":2,\"linecolor\":\"white\",\"showbackground\":true,\"ticks\":\"\",\"zerolinecolor\":\"white\"},\"zaxis\":{\"backgroundcolor\":\"#E5ECF6\",\"gridcolor\":\"white\",\"gridwidth\":2,\"linecolor\":\"white\",\"showbackground\":true,\"ticks\":\"\",\"zerolinecolor\":\"white\"}},\"shapedefaults\":{\"line\":{\"color\":\"#2a3f5f\"}},\"ternary\":{\"aaxis\":{\"gridcolor\":\"white\",\"linecolor\":\"white\",\"ticks\":\"\"},\"baxis\":{\"gridcolor\":\"white\",\"linecolor\":\"white\",\"ticks\":\"\"},\"bgcolor\":\"#E5ECF6\",\"caxis\":{\"gridcolor\":\"white\",\"linecolor\":\"white\",\"ticks\":\"\"}},\"title\":{\"x\":0.05},\"xaxis\":{\"automargin\":true,\"gridcolor\":\"white\",\"linecolor\":\"white\",\"ticks\":\"\",\"title\":{\"standoff\":15},\"zerolinecolor\":\"white\",\"zerolinewidth\":2},\"yaxis\":{\"automargin\":true,\"gridcolor\":\"white\",\"linecolor\":\"white\",\"ticks\":\"\",\"title\":{\"standoff\":15},\"zerolinecolor\":\"white\",\"zerolinewidth\":2}}},\"margin\":{\"l\":65,\"r\":50,\"b\":65,\"t\":90},\"title\":{\"text\":\"Hyperparameter tuning\"},\"scene\":{\"xaxis\":{\"title\":{\"text\":\"max_depth\"}},\"yaxis\":{\"title\":{\"text\":\"min_samples_leaf\"}},\"zaxis\":{\"title\":{\"text\":\"r^2\"}}},\"autosize\":false,\"width\":500,\"height\":500},                        {\"responsive\": true}                    ).then(function(){\n",
       "                            \n",
       "var gd = document.getElementById('8ffa8581-a460-48a8-8e32-96c3c14fbbf9');\n",
       "var x = new MutationObserver(function (mutations, observer) {{\n",
       "        var display = window.getComputedStyle(gd).display;\n",
       "        if (!display || display === 'none') {{\n",
       "            console.log([gd, 'removed!']);\n",
       "            Plotly.purge(gd);\n",
       "            observer.disconnect();\n",
       "        }}\n",
       "}});\n",
       "\n",
       "// Listen for the removal of the full notebook cells\n",
       "var notebookContainer = gd.closest('#notebook-container');\n",
       "if (notebookContainer) {{\n",
       "    x.observe(notebookContainer, {childList: true});\n",
       "}}\n",
       "\n",
       "// Listen for the clearing of the current output cell\n",
       "var outputEl = gd.closest('.output');\n",
       "if (outputEl) {{\n",
       "    x.observe(outputEl, {childList: true});\n",
       "}}\n",
       "\n",
       "                        })                };                });            </script>        </div>"
      ]
     },
     "metadata": {},
     "output_type": "display_data"
    }
   ],
   "source": [
    "# Hyperparameter tuning 3D plot\n",
    "\n",
    "fig = go.Figure(data = [go.Surface(z=z, x=x, y=y)], layout=layout)\n",
    "\n",
    "fig.update_layout(title='Hyperparameter tuning',\n",
    "                scene = dict(\n",
    "                    xaxis_title='max_depth',\n",
    "                    yaxis_title='min_samples_leaf',\n",
    "                    zaxis_title='r^2'),                  \n",
    "                autosize=False,\n",
    "                width=500, height=500,\n",
    "                margin=dict(l=65, r=50, b=65, t=90))\n",
    "\n",
    "fig.show()"
   ]
  },
  {
   "cell_type": "code",
   "execution_count": 56,
   "id": "541f8ffd",
   "metadata": {},
   "outputs": [],
   "source": [
    "tree_model = DecisionTreeRegressor(max_depth=15, min_samples_leaf=5, random_state=42)"
   ]
  },
  {
   "cell_type": "code",
   "execution_count": 57,
   "id": "a0d5a591",
   "metadata": {},
   "outputs": [
    {
     "data": {
      "text/plain": [
       "DecisionTreeRegressor(max_depth=15, min_samples_leaf=5, random_state=42)"
      ]
     },
     "execution_count": 57,
     "metadata": {},
     "output_type": "execute_result"
    }
   ],
   "source": [
    "tree_model.fit(X_train, y_train)"
   ]
  },
  {
   "cell_type": "code",
   "execution_count": 58,
   "id": "accbbb4f",
   "metadata": {
    "collapsed": true
   },
   "outputs": [
    {
     "data": {
      "text/plain": [
       "array([64.814     , 46.91166667, 63.035     , 63.60428571, 64.082     ,\n",
       "       66.53030877, 64.30659839, 62.91166667, 67.73466491, 63.06375   ,\n",
       "       51.396     , 68.208     , 54.08142857, 28.422     , 56.09571429,\n",
       "       67.162     , 66.19111111, 58.278     , 48.62340663, 68.65740792,\n",
       "       47.12375   , 59.555     , 62.86857143, 65.76      , 68.99      ,\n",
       "       64.354     , 55.648     , 59.82666667, 67.73466491, 68.08      ,\n",
       "       64.082     , 63.715     , 67.74625   , 58.12714286, 52.012     ,\n",
       "       64.31      , 66.5275    , 63.67      , 60.7       , 60.7038991 ,\n",
       "       64.88444444, 67.73466491, 69.862     , 58.82      , 68.208     ,\n",
       "       68.208     , 70.28888889, 46.91166667, 60.2825    , 67.73466491,\n",
       "       44.58666667, 67.73466491, 60.95333333, 67.73466491, 67.84      ,\n",
       "       59.05333333, 66.53030877, 69.16      , 65.41      , 60.95333333,\n",
       "       59.05333333, 63.06375   , 69.71      , 51.64      , 64.30833333,\n",
       "       66.014     , 60.63833333, 50.09      , 65.32506265, 65.41      ,\n",
       "       69.68714286, 65.99      , 65.76      , 64.354     , 67.73466491,\n",
       "       67.73466491, 67.118     , 63.26666667, 69.47666667, 64.30659839,\n",
       "       69.83875   , 67.43625   , 69.01833333, 56.556     , 66.978     ,\n",
       "       64.88444444, 66.54      , 63.67      , 63.42777778, 67.73466491,\n",
       "       63.21111111, 66.464     , 64.512     , 65.625     , 66.554     ,\n",
       "       65.39428571, 59.302     , 67.73466491, 66.978     , 62.135     ,\n",
       "       62.44      , 67.73466491, 66.91555556, 65.18      , 67.73466491,\n",
       "       62.40428571, 58.278     , 62.47      , 60.92857143, 63.60428571,\n",
       "       49.47661295, 64.918     , 65.39428571, 48.19      , 58.83888889,\n",
       "       62.40428571, 62.37666667, 67.73466491, 63.27125   , 47.21765783,\n",
       "       67.762     , 51.64      , 65.18166667, 62.00428571, 62.37666667,\n",
       "       69.862     , 53.30888889, 67.73466491, 66.554     , 65.57875   ,\n",
       "       66.33285714, 60.38625   , 68.18327482, 62.00428571, 65.41      ,\n",
       "       66.53030877, 57.48911044, 62.37666667, 54.08142857, 64.30659839,\n",
       "       54.054     , 62.00428571, 65.21629317, 50.09      , 59.82666667,\n",
       "       58.69222222, 47.12375   , 67.73466491, 62.37666667, 70.28888889,\n",
       "       58.96666667, 64.30833333, 67.73466491, 66.53030877, 62.45      ,\n",
       "       69.47666667, 65.21629317, 57.5675    , 28.23      , 57.06375   ,\n",
       "       66.398     , 57.5675    , 62.00428571, 60.87117871, 60.2825    ,\n",
       "       58.12714286, 56.09571429, 30.6425    , 58.83888889, 50.32666667,\n",
       "       47.12375   , 47.006     , 54.054     , 54.63      , 66.53030877,\n",
       "       63.715     , 65.52111111, 65.21629317, 66.528     , 62.45      ,\n",
       "       58.278     , 66.06      , 64.30659839, 61.572     , 54.08142857,\n",
       "       67.118     , 66.53030877, 66.5275    , 65.33      , 60.448     ,\n",
       "       67.73466491, 67.335     , 54.63      , 62.95625   , 64.30833333,\n",
       "       66.602     , 41.526     , 67.73466491, 60.87117871, 66.19111111,\n",
       "       64.65571429, 62.232     , 27.7       , 62.47      , 60.7       ,\n",
       "       64.31      , 63.094     , 62.37666667, 62.62224441, 62.40428571,\n",
       "       64.748     , 66.602     , 59.555     , 66.53030877, 63.634     ,\n",
       "       64.354     , 67.73466491, 65.21629317, 57.46360757, 67.73466491,\n",
       "       66.398     , 68.99      , 48.19      , 60.292     , 54.74333333,\n",
       "       67.73466491, 64.354     , 46.01571429, 69.302     , 54.74333333,\n",
       "       58.69222222, 63.67      , 60.578     , 60.72166667, 65.96571429,\n",
       "       28.23      , 60.95333333, 62.44      , 60.2825    , 69.95625   ,\n",
       "       66.1975    , 32.28      , 58.278     , 64.88666667, 69.83875   ,\n",
       "       65.814     , 67.72      , 50.32666667, 65.33      , 64.512     ,\n",
       "       60.72166667, 69.71      , 68.08      , 54.08142857, 67.762     ,\n",
       "       69.106     , 60.38625   , 67.73466491, 67.335     , 65.814     ,\n",
       "       64.88444444, 58.83888889, 68.208     , 47.12375   , 63.67      ,\n",
       "       62.86857143, 58.96666667, 64.082     , 48.19      , 69.95625   ,\n",
       "       69.83875   , 64.30659839, 60.7       , 48.19      , 59.806     ,\n",
       "       69.95625   , 63.21111111, 56.556     , 69.862     , 50.32666667,\n",
       "       32.28      , 70.28888889, 66.53030877, 66.53030877, 56.556     ,\n",
       "       60.92857143, 62.47      , 60.72      , 66.91555556, 63.715     ,\n",
       "       60.72166667, 64.512     , 65.814     , 60.2825    , 65.99      ,\n",
       "       58.83888889, 65.52111111, 57.06375   , 66.1975    , 65.52111111,\n",
       "       68.268     , 65.21629317, 67.335     , 58.278     , 62.91166667,\n",
       "       63.42777778, 61.572     , 64.31      , 60.7038991 , 65.625     ,\n",
       "       68.37      , 64.88444444, 60.78      , 63.57111111, 64.88444444,\n",
       "       51.396     , 63.42777778, 67.73466491, 42.606     , 65.39428571,\n",
       "       46.91166667, 64.918     , 66.398     , 65.33      , 63.21111111,\n",
       "       60.14428571, 58.83888889, 66.19111111, 65.33      , 64.814     ,\n",
       "       34.64169578, 67.46      , 63.825     , 64.512     , 65.926     ,\n",
       "       28.422     , 67.35777778, 57.46360757, 54.08142857, 62.40428571,\n",
       "       69.862     , 62.95625   , 58.12714286, 60.292     , 59.05333333,\n",
       "       48.19      , 69.95625   , 65.625     , 70.28888889, 47.006     ,\n",
       "       65.39428571, 69.01833333, 66.398     , 64.37      , 47.275     ,\n",
       "       68.65740792, 62.3575    , 49.47661295, 47.21765783, 67.73466491,\n",
       "       59.05333333, 64.88444444, 54.054     , 67.73466491, 67.73466491,\n",
       "       66.53030877, 58.82      , 30.6425    , 60.7038991 , 46.91166667,\n",
       "       59.05333333, 67.73466491, 52.012     , 67.33142857, 65.97571429,\n",
       "       67.43625   , 67.73466491, 67.73466491])"
      ]
     },
     "execution_count": 58,
     "metadata": {},
     "output_type": "execute_result"
    }
   ],
   "source": [
    "y_pred_tree = tree_model.predict(X_test)\n",
    "y_pred_tree"
   ]
  },
  {
   "cell_type": "code",
   "execution_count": 59,
   "id": "7d287ca2",
   "metadata": {},
   "outputs": [
    {
     "name": "stdout",
     "output_type": "stream",
     "text": [
      "MSE = 25.87\n",
      "RMSE = 5.09\n",
      "MAE = 2.73\n",
      "R2 = 0.67\n",
      "Max Error = 35.31\n"
     ]
    }
   ],
   "source": [
    "# Metrics for the prediction\n",
    "\n",
    "mse = mean_squared_error(y_test, y_pred_tree)\n",
    "\n",
    "rmse = math.sqrt(mse)\n",
    "\n",
    "mae = mean_absolute_error(y_test, y_pred_tree)\n",
    "\n",
    "rsquared = r2_score(y_test, y_pred_tree)\n",
    "\n",
    "max_error = max_error(y_test, y_pred_tree)\n",
    "\n",
    "print('MSE =', round(mse, 2))\n",
    "print('RMSE =', round(rmse, 2))\n",
    "print('MAE =', round(mae, 2))\n",
    "print('R2 =', round(rsquared, 2))\n",
    "print('Max Error =', round(max_error, 2))"
   ]
  },
  {
   "cell_type": "code",
   "execution_count": 147,
   "id": "b63766ad",
   "metadata": {},
   "outputs": [
    {
     "data": {
      "image/png": "[encoded data removed]",
      "text/plain": [
       "<Figure size 432x288 with 1 Axes>"
      ]
     },
     "metadata": {
      "needs_background": "light"
     },
     "output_type": "display_data"
    }
   ],
   "source": [
    "fig, ax = plt.subplots()\n",
    "ax.scatter(y_test, y_pred_tree)\n",
    "ax.set_xlabel('Actual DTT_Fe_Conc_Grade')\n",
    "ax.set_ylabel('Predicted DTT_Fe_Conc_Grade')\n",
    "ax.set_title('R2: ' + str(r2_score(y_test, y_pred_tree)))\n",
    "\n",
    "plt.show()"
   ]
  },
  {
   "cell_type": "code",
   "execution_count": 130,
   "id": "94923355",
   "metadata": {
    "scrolled": false
   },
   "outputs": [
    {
     "data": {
      "text/plain": [
       "1185    0.096000\n",
       "1054    6.018333\n",
       "1743   -0.255000\n",
       "1512   -0.214286\n",
       "1460   -0.852000\n",
       "          ...   \n",
       "141    -0.131429\n",
       "1420   -0.005714\n",
       "674     0.523750\n",
       "1763   -1.924665\n",
       "339     1.645335\n",
       "Name: DTT_Fe_Conc_Grade, Length: 378, dtype: float64"
      ]
     },
     "execution_count": 130,
     "metadata": {},
     "output_type": "execute_result"
    }
   ],
   "source": [
    "# y_test['residuals'] = y_test['DTT_Fe_Conc_Grade'] - y_test['prediction']\n",
    "residuals = y_test['DTT_Fe_Conc_Grade'] - y_pred_tree\n",
    "residuals"
   ]
  },
  {
   "cell_type": "code",
   "execution_count": 141,
   "id": "877a12ef",
   "metadata": {},
   "outputs": [
    {
     "data": {
      "image/png": "[encoded data removed]",
      "text/plain": [
       "<Figure size 432x288 with 1 Axes>"
      ]
     },
     "metadata": {
      "needs_background": "light"
     },
     "output_type": "display_data"
    }
   ],
   "source": [
    "fig, ax = plt.subplots()\n",
    "sns.histplot(residuals, kde=True, color='purple', edgecolor='black', bins=40)\n",
    "ax.set_xlim(-30,30)\n",
    "ax.set_xticks(range(-30,30,10))\n",
    "plt.xlabel(\"residuals\")\n",
    "\n",
    "plt.show()"
   ]
  },
  {
   "cell_type": "code",
   "execution_count": 68,
   "id": "058f4237",
   "metadata": {},
   "outputs": [
    {
     "data": {
      "text/plain": [
       "Text(0, 0.5, 'Residual DTT_Fe_Conc_Grade')"
      ]
     },
     "execution_count": 68,
     "metadata": {},
     "output_type": "execute_result"
    },
    {
     "data": {
      "image/png": "[encoded data removed]",
      "text/plain": [
       "<Figure size 432x288 with 1 Axes>"
      ]
     },
     "metadata": {
      "needs_background": "light"
     },
     "output_type": "display_data"
    }
   ],
   "source": [
    "# Check with Residuals vs. fitted scatterplot\n",
    "\n",
    "sns.scatterplot(x=y_pred_tree, y=residuals)\n",
    "plt.xlabel('Predicted DTT_Fe_Conc_Grade')\n",
    "plt.ylabel('Residual DTT_Fe_Conc_Grade')"
   ]
  },
  {
   "cell_type": "code",
   "execution_count": 70,
   "id": "354280d3",
   "metadata": {},
   "outputs": [],
   "source": [
    "res_samples = []\n",
    "\n",
    "for res in residuals:\n",
    "    if res>10 or res<-10:\n",
    "        res_samples.append(res)"
   ]
  },
  {
   "cell_type": "code",
   "execution_count": 71,
   "id": "2465c956",
   "metadata": {
    "collapsed": true
   },
   "outputs": [
    {
     "data": {
      "text/plain": [
       "[15.183999999999997,\n",
       " -15.971428571428582,\n",
       " -19.887777777777778,\n",
       " -10.067999999999998,\n",
       " -10.594285714285718,\n",
       " -14.77661295,\n",
       " -16.984091562,\n",
       " 17.776249999999997,\n",
       " 16.23400000000001,\n",
       " -30.196598393333332,\n",
       " -10.804000000000002,\n",
       " -10.310000000000002,\n",
       " 35.31,\n",
       " -26.692305216666675,\n",
       " -22.350000000000005,\n",
       " 19.158304216250002,\n",
       " -10.430000000000007,\n",
       " -15.971428571428582,\n",
       " -10.310000000000002,\n",
       " 13.504000000000005]"
      ]
     },
     "execution_count": 71,
     "metadata": {},
     "output_type": "execute_result"
    }
   ],
   "source": [
    "res_samples"
   ]
  },
  {
   "cell_type": "code",
   "execution_count": 72,
   "id": "35f25a93",
   "metadata": {},
   "outputs": [
    {
     "data": {
      "text/plain": [
       "20"
      ]
     },
     "execution_count": 72,
     "metadata": {},
     "output_type": "execute_result"
    }
   ],
   "source": [
    "len(res_samples)"
   ]
  },
  {
   "cell_type": "code",
   "execution_count": 73,
   "id": "6ed3884e",
   "metadata": {},
   "outputs": [
    {
     "data": {
      "text/plain": [
       "5.29"
      ]
     },
     "execution_count": 73,
     "metadata": {},
     "output_type": "execute_result"
    }
   ],
   "source": [
    "# Percentage of samples with residuals out of +-10% \n",
    "round(len(res_samples)/len(y_pred_tree)*100,2)"
   ]
  },
  {
   "cell_type": "markdown",
   "id": "7ee55325",
   "metadata": {},
   "source": [
    "## Extreme Gradient Boosting"
   ]
  },
  {
   "cell_type": "code",
   "execution_count": 87,
   "id": "02010a23",
   "metadata": {},
   "outputs": [],
   "source": [
    "# GridsearchCV function will be used to conduct the hyperparameter tuning\n",
    "\n",
    "# Instantiate the grid search model\n",
    "xgb = XGBRegressor(random_state=42)\n",
    "\n",
    "params = {'n_estimators' : [1000, 3000, 4000],\n",
    "          'learning_rate' : [0.01, 0.02, 0.05,0.75, 0.1, 0.2]}\n",
    "\n",
    "grid = GridSearchCV(estimator=xgb, \n",
    "                           param_grid=params, \n",
    "                           cv=5, verbose=1)"
   ]
  },
  {
   "cell_type": "code",
   "execution_count": 88,
   "id": "5766d335",
   "metadata": {},
   "outputs": [
    {
     "name": "stdout",
     "output_type": "stream",
     "text": [
      "Fitting 5 folds for each of 18 candidates, totalling 90 fits\n"
     ]
    },
    {
     "data": {
      "text/plain": [
       "GridSearchCV(cv=5,\n",
       "             estimator=XGBRegressor(base_score=None, booster=None,\n",
       "                                    colsample_bylevel=None,\n",
       "                                    colsample_bynode=None,\n",
       "                                    colsample_bytree=None,\n",
       "                                    enable_categorical=False, gamma=None,\n",
       "                                    gpu_id=None, importance_type=None,\n",
       "                                    interaction_constraints=None,\n",
       "                                    learning_rate=None, max_delta_step=None,\n",
       "                                    max_depth=None, min_child_weight=None,\n",
       "                                    missing=nan, monotone_constraints=None,\n",
       "                                    n_estimators=100, n_jobs=None,\n",
       "                                    num_parallel_tree=None, predictor=None,\n",
       "                                    random_state=42, reg_alpha=None,\n",
       "                                    reg_lambda=None, scale_pos_weight=None,\n",
       "                                    subsample=None, tree_method=None,\n",
       "                                    validate_parameters=None, verbosity=None),\n",
       "             param_grid={'learning_rate': [0.01, 0.02, 0.05, 0.75, 0.1, 0.2],\n",
       "                         'n_estimators': [1000, 3000, 4000]},\n",
       "             verbose=1)"
      ]
     },
     "execution_count": 88,
     "metadata": {},
     "output_type": "execute_result"
    }
   ],
   "source": [
    "grid.fit(X_train, y_train)"
   ]
  },
  {
   "cell_type": "code",
   "execution_count": 89,
   "id": "4d8395c2",
   "metadata": {},
   "outputs": [
    {
     "name": "stdout",
     "output_type": "stream",
     "text": [
      "The best parameters are {'learning_rate': 0.05, 'n_estimators': 3000} with a score of 0.860\n"
     ]
    }
   ],
   "source": [
    "print(f\"The best parameters are {grid.best_params_} with a score of {grid.best_score_:.3f}\")"
   ]
  },
  {
   "cell_type": "code",
   "execution_count": 91,
   "id": "f0ba5901",
   "metadata": {},
   "outputs": [],
   "source": [
    "xgb_model = XGBRegressor(learning_rate=0.05, n_estimators=3000)"
   ]
  },
  {
   "cell_type": "code",
   "execution_count": 92,
   "id": "0eccebec",
   "metadata": {},
   "outputs": [
    {
     "data": {
      "text/plain": [
       "XGBRegressor(base_score=0.5, booster='gbtree', colsample_bylevel=1,\n",
       "             colsample_bynode=1, colsample_bytree=1, enable_categorical=False,\n",
       "             gamma=0, gpu_id=-1, importance_type=None,\n",
       "             interaction_constraints='', learning_rate=0.05, max_delta_step=0,\n",
       "             max_depth=6, min_child_weight=1, missing=nan,\n",
       "             monotone_constraints='()', n_estimators=3000, n_jobs=4,\n",
       "             num_parallel_tree=1, predictor='auto', random_state=0, reg_alpha=0,\n",
       "             reg_lambda=1, scale_pos_weight=1, subsample=1, tree_method='exact',\n",
       "             validate_parameters=1, verbosity=None)"
      ]
     },
     "execution_count": 92,
     "metadata": {},
     "output_type": "execute_result"
    }
   ],
   "source": [
    "xgb_model.fit(X_train, y_train)"
   ]
  },
  {
   "cell_type": "code",
   "execution_count": 98,
   "id": "a3ac1f67",
   "metadata": {
    "collapsed": true
   },
   "outputs": [
    {
     "data": {
      "text/plain": [
       "array([65.17734 , 50.533802, 62.510952, 63.667545, 63.251778, 66.284546,\n",
       "       61.63694 , 64.472404, 66.828705, 63.938496, 60.508835, 68.89112 ,\n",
       "       53.48569 , 26.81417 , 54.81243 , 65.73946 , 66.09982 , 60.179714,\n",
       "       50.909645, 67.76432 , 52.808006, 59.769997, 54.49833 , 66.80098 ,\n",
       "       70.0729  , 63.484623, 56.768593, 54.907772, 66.70625 , 67.96079 ,\n",
       "       64.717186, 56.856133, 63.35869 , 55.901035, 51.464676, 63.658047,\n",
       "       66.37179 , 66.44145 , 65.169205, 66.53005 , 63.139774, 66.81154 ,\n",
       "       69.34049 , 58.998444, 68.80403 , 67.48003 , 70.334564, 43.054577,\n",
       "       58.119503, 68.03981 , 51.83076 , 66.68743 , 61.19821 , 65.66796 ,\n",
       "       65.94634 , 58.432766, 66.07929 , 69.30046 , 64.0882  , 60.866646,\n",
       "       58.635033, 64.60037 , 70.608246, 43.100304, 67.120384, 66.1723  ,\n",
       "       61.15324 , 57.357185, 65.761604, 64.822685, 68.58289 , 65.0988  ,\n",
       "       65.88964 , 62.736805, 69.17466 , 67.95367 , 67.32065 , 64.933525,\n",
       "       67.922935, 59.14655 , 66.48052 , 66.64043 , 69.31713 , 58.717525,\n",
       "       68.03555 , 64.64164 , 65.78538 , 64.745125, 57.318943, 65.33761 ,\n",
       "       63.194874, 66.79947 , 66.03203 , 67.58771 , 65.141716, 65.363625,\n",
       "       62.115906, 65.202156, 60.253532, 65.515915, 62.440487, 65.83234 ,\n",
       "       64.506744, 67.59303 , 67.64009 , 52.555813, 59.970776, 62.339172,\n",
       "       61.532864, 63.294197, 51.579994, 63.589375, 64.52521 , 52.00566 ,\n",
       "       60.494766, 60.730343, 61.24165 , 65.94144 , 64.1133  , 39.962147,\n",
       "       65.443184, 54.88949 , 65.43891 , 61.447613, 63.422386, 69.865265,\n",
       "       57.628548, 64.09455 , 61.338722, 64.59817 , 65.27254 , 60.342   ,\n",
       "       69.14657 , 63.358143, 60.34457 , 67.387215, 56.53617 , 60.75856 ,\n",
       "       57.72879 , 60.18457 , 56.347214, 63.45969 , 61.749302, 57.469685,\n",
       "       52.69159 , 59.21993 , 46.047314, 68.24258 , 63.27345 , 68.914406,\n",
       "       58.88682 , 66.610054, 67.44604 , 67.47411 , 62.248753, 67.922935,\n",
       "       67.31476 , 54.48684 , 25.578928, 50.481102, 63.295532, 59.895157,\n",
       "       62.958237, 63.30799 , 59.37966 , 62.87548 , 56.416462, 39.762356,\n",
       "       61.085327, 49.99225 , 59.610622, 53.620514, 53.062363, 54.92803 ,\n",
       "       66.678734, 56.4548  , 68.66579 , 65.768776, 64.795685, 62.33084 ,\n",
       "       60.57642 , 64.1519  , 53.93819 , 61.701096, 57.212776, 66.32818 ,\n",
       "       67.029625, 65.18006 , 64.48105 , 57.494587, 66.58592 , 68.68116 ,\n",
       "       53.843563, 62.710686, 64.37329 , 66.00739 , 44.253174, 65.77481 ,\n",
       "       62.630978, 65.27318 , 64.07783 , 70.598404, 22.713776, 62.37481 ,\n",
       "       64.21354 , 63.625156, 65.52237 , 62.406914, 59.894608, 60.71512 ,\n",
       "       64.58201 , 60.362556, 59.501667, 67.98989 , 57.050255, 64.53011 ,\n",
       "       64.03035 , 65.56067 , 59.798443, 69.36034 , 66.23947 , 67.50816 ,\n",
       "       38.18502 , 60.95739 , 53.580605, 67.206276, 63.3601  , 37.684975,\n",
       "       69.795425, 54.119946, 59.5574  , 64.44278 , 61.94839 , 62.269897,\n",
       "       65.46391 , 65.30208 , 61.662724, 58.03906 , 58.64884 , 70.61444 ,\n",
       "       65.284256, 31.925879, 60.179714, 64.48728 , 63.695656, 67.02358 ,\n",
       "       66.75624 , 43.374203, 65.301865, 64.57132 , 62.64421 , 70.37243 ,\n",
       "       69.031204, 54.37395 , 67.88414 , 65.204475, 62.984818, 68.22538 ,\n",
       "       68.21762 , 66.09145 , 63.150295, 60.852757, 68.752   , 48.051292,\n",
       "       67.01356 , 51.624634, 59.928864, 63.816895, 29.490582, 69.964584,\n",
       "       64.523636, 64.1582  , 62.855595, 51.72669 , 60.174023, 69.55352 ,\n",
       "       63.228165, 55.74293 , 69.16938 , 48.221104, 30.47053 , 69.70261 ,\n",
       "       65.13093 , 67.39659 , 59.197857, 60.949883, 62.525047, 67.65688 ,\n",
       "       65.74561 , 65.00467 , 59.27228 , 65.03448 , 66.05229 , 62.542664,\n",
       "       66.68954 , 60.881367, 65.79974 , 59.25845 , 66.66965 , 67.60309 ,\n",
       "       67.467255, 61.590736, 68.3444  , 65.41646 , 62.742157, 62.529   ,\n",
       "       61.37873 , 63.66268 , 62.932106, 66.39306 , 68.78639 , 62.423508,\n",
       "       61.846638, 63.55887 , 64.17617 , 49.80554 , 61.03685 , 65.51963 ,\n",
       "       42.92436 , 64.82109 , 53.706863, 65.93552 , 66.18776 , 65.13865 ,\n",
       "       63.370796, 60.077686, 58.598637, 63.932682, 64.526436, 64.77024 ,\n",
       "       53.926216, 56.587166, 63.69894 , 63.867325, 66.30779 , 24.857899,\n",
       "       67.705635, 56.600098, 53.67954 , 55.7469  , 69.45999 , 62.78437 ,\n",
       "       54.889107, 60.146698, 58.787792, 37.556694, 70.426445, 65.14673 ,\n",
       "       70.074684, 59.367344, 65.62731 , 68.64518 , 66.88974 , 62.535633,\n",
       "       45.98613 , 69.0095  , 62.41837 , 46.722294, 46.90288 , 67.52539 ,\n",
       "       61.11621 , 66.82263 , 56.16825 , 66.70516 , 68.080536, 66.65959 ,\n",
       "       59.179577, 44.004715, 61.49652 , 53.706863, 55.688766, 64.85556 ,\n",
       "       51.863926, 66.06293 , 65.92442 , 67.19264 , 65.80769 , 69.53239 ],\n",
       "      dtype=float32)"
      ]
     },
     "execution_count": 98,
     "metadata": {},
     "output_type": "execute_result"
    }
   ],
   "source": [
    "y_pred_xgb = xgb_model.predict(X_test)\n",
    "y_pred_xgb"
   ]
  },
  {
   "cell_type": "code",
   "execution_count": 146,
   "id": "3e0c3411",
   "metadata": {},
   "outputs": [
    {
     "data": {
      "image/png": "[encoded data removed]",
      "text/plain": [
       "<Figure size 432x288 with 1 Axes>"
      ]
     },
     "metadata": {
      "needs_background": "light"
     },
     "output_type": "display_data"
    }
   ],
   "source": [
    "fig, ax = plt.subplots()\n",
    "ax.scatter(y_test, y_pred_xgb)\n",
    "ax.set_xlabel('Actual DTT_Fe_Conc_Grade')\n",
    "ax.set_ylabel('Predicted DTT_Fe_Conc_Grade')\n",
    "ax.set_title('R2: ' + str(r2_score(y_test, y_pred_xgb)))\n",
    "\n",
    "plt.show()"
   ]
  },
  {
   "cell_type": "code",
   "execution_count": 118,
   "id": "cc6480a9",
   "metadata": {},
   "outputs": [
    {
     "name": "stdout",
     "output_type": "stream",
     "text": [
      "RMSE :  3.001118\n"
     ]
    }
   ],
   "source": [
    "# RMSE Computation\n",
    "rmse = np.sqrt(MSE(y_test, y_pred_xgb))\n",
    "print(\"RMSE : % f\" %(rmse))"
   ]
  },
  {
   "cell_type": "code",
   "execution_count": 119,
   "id": "f1474aef",
   "metadata": {},
   "outputs": [
    {
     "data": {
      "text/plain": [
       "378"
      ]
     },
     "execution_count": 119,
     "metadata": {},
     "output_type": "execute_result"
    }
   ],
   "source": [
    "len(y_pred_xgb)"
   ]
  },
  {
   "cell_type": "code",
   "execution_count": 143,
   "id": "82fae13f",
   "metadata": {},
   "outputs": [
    {
     "data": {
      "text/plain": [
       "1185   -0.267338\n",
       "1054    2.396198\n",
       "1743    0.269048\n",
       "1512   -0.277545\n",
       "1460   -0.021778\n",
       "          ...   \n",
       "141     1.137073\n",
       "1420    0.045577\n",
       "674     0.767358\n",
       "1763    0.002307\n",
       "339    -0.152387\n",
       "Name: DTT_Fe_Conc_Grade, Length: 378, dtype: float64"
      ]
     },
     "execution_count": 143,
     "metadata": {},
     "output_type": "execute_result"
    }
   ],
   "source": [
    "residuals = y_test['DTT_Fe_Conc_Grade'] - y_pred_xgb\n",
    "residuals"
   ]
  },
  {
   "cell_type": "code",
   "execution_count": 145,
   "id": "ebde55cc",
   "metadata": {},
   "outputs": [
    {
     "data": {
      "image/png": "[encoded data removed]",
      "text/plain": [
       "<Figure size 432x288 with 1 Axes>"
      ]
     },
     "metadata": {
      "needs_background": "light"
     },
     "output_type": "display_data"
    }
   ],
   "source": [
    "fig, ax = plt.subplots()\n",
    "sns.histplot(residuals, kde=True, color='purple', edgecolor='black', bins=20)\n",
    "ax.set_xlim(-30,30)\n",
    "ax.set_xticks(range(-30,30,10))\n",
    "plt.xlabel(\"residuals\")\n",
    "\n",
    "plt.show()"
   ]
  },
  {
   "cell_type": "code",
   "execution_count": 123,
   "id": "cf8f720d",
   "metadata": {},
   "outputs": [
    {
     "data": {
      "text/plain": [
       "Text(0, 0.5, 'Residual DTT_Fe_Conc_Grade')"
      ]
     },
     "execution_count": 123,
     "metadata": {},
     "output_type": "execute_result"
    },
    {
     "data": {
      "image/png": "[encoded data removed]",
      "text/plain": [
       "<Figure size 432x288 with 1 Axes>"
      ]
     },
     "metadata": {
      "needs_background": "light"
     },
     "output_type": "display_data"
    }
   ],
   "source": [
    "# Check with Residuals vs. fitted scatterplot\n",
    "\n",
    "sns.scatterplot(x=y_pred_xgb, y=residuals)\n",
    "plt.xlabel('Predicted DTT_Fe_Conc_Grade')\n",
    "plt.ylabel('Residual DTT_Fe_Conc_Grade')"
   ]
  },
  {
   "cell_type": "code",
   "execution_count": 124,
   "id": "f233ca62",
   "metadata": {},
   "outputs": [],
   "source": [
    "res_samples = []\n",
    "\n",
    "for res in residuals:\n",
    "    if res>10 or res<-10:\n",
    "        res_samples.append(res)"
   ]
  },
  {
   "cell_type": "code",
   "execution_count": 125,
   "id": "f46b41e4",
   "metadata": {},
   "outputs": [
    {
     "data": {
      "text/plain": [
       "7"
      ]
     },
     "execution_count": 125,
     "metadata": {},
     "output_type": "execute_result"
    }
   ],
   "source": [
    "len(res_samples)"
   ]
  },
  {
   "cell_type": "code",
   "execution_count": 126,
   "id": "adcc03a1",
   "metadata": {},
   "outputs": [
    {
     "data": {
      "text/plain": [
       "1.85"
      ]
     },
     "execution_count": 126,
     "metadata": {},
     "output_type": "execute_result"
    }
   ],
   "source": [
    "# Percentage of samples with residuals out of +-10% \n",
    "round(len(res_samples)/len(y_pred_tree)*100,2)"
   ]
  }
 ],
 "metadata": {
  "kernelspec": {
   "display_name": "Python 3 (ipykernel)",
   "language": "python",
   "name": "python3"
  },
  "language_info": {
   "codemirror_mode": {
    "name": "ipython",
    "version": 3
   },
   "file_extension": ".py",
   "mimetype": "text/x-python",
   "name": "python",
   "nbconvert_exporter": "python",
   "pygments_lexer": "ipython3",
   "version": "3.8.12"
  },
  "toc": {
   "base_numbering": 1,
   "nav_menu": {},
   "number_sections": true,
   "sideBar": true,
   "skip_h1_title": false,
   "title_cell": "Table of Contents",
   "title_sidebar": "Contents",
   "toc_cell": false,
   "toc_position": {},
   "toc_section_display": true,
   "toc_window_display": true
  }
 },
 "nbformat": 4,
 "nbformat_minor": 5
}
