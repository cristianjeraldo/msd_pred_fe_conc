{
 "cells": [
  {
   "cell_type": "code",
   "execution_count": 2,
   "id": "ca92c84c",
   "metadata": {},
   "outputs": [],
   "source": [
    "# Fundamental modules/libraries\n",
    "import pandas as pd\n",
    "import numpy as np\n",
    "\n",
    "# Model selection\n",
    "from sklearn.model_selection import GridSearchCV\n",
    "from sklearn.model_selection import train_test_split\n",
    "\n",
    "#Regression algorithms \n",
    "from sklearn.tree import DecisionTreeRegressor\n",
    "from sklearn.neighbors import KNeighborsRegressor\n",
    "from sklearn.svm import SVR\n",
    "from xgboost import XGBRegressor\n",
    "from sklearn.ensemble import RandomForestRegressor\n",
    "from sklearn.ensemble import GradientBoostingRegressor\n",
    "from catboost import CatBoostRegressor\n",
    "from sklearn.linear_model import LinearRegression\n",
    "\n",
    "# Metrics\n",
    "from sklearn.metrics import mean_squared_error, mean_absolute_error, r2_score, max_error\n",
    "import math\n",
    "from sklearn.metrics import mean_squared_error as MSE\n",
    "\n",
    "# Visualization\n",
    "import matplotlib.pyplot as plt\n",
    "import seaborn as sns\n",
    "import plotly.graph_objects as go\n",
    "from scipy.stats import gaussian_kde\n",
    "import plotly.express as px\n",
    "from matplotlib.ticker import FormatStrFormatter"
   ]
  },
  {
   "cell_type": "code",
   "execution_count": 6,
   "id": "972f7bb2",
   "metadata": {},
   "outputs": [],
   "source": [
    "# The sample 4a3-21-504DD@130-132  was removed, since it corresponds to an outlier\n",
    "# (see presentation in the 4. ANDE_UPPER directory)"
   ]
  },
  {
   "cell_type": "code",
   "execution_count": 7,
   "id": "9d2dfd5d",
   "metadata": {},
   "outputs": [],
   "source": [
    "df = pd.read_csv('db_ande_U_no_outlier.csv', index_col=[0])"
   ]
  },
  {
   "cell_type": "code",
   "execution_count": 8,
   "id": "e6daeb81",
   "metadata": {},
   "outputs": [
    {
     "data": {
      "text/html": [
       "<div>\n",
       "<style scoped>\n",
       "    .dataframe tbody tr th:only-of-type {\n",
       "        vertical-align: middle;\n",
       "    }\n",
       "\n",
       "    .dataframe tbody tr th {\n",
       "        vertical-align: top;\n",
       "    }\n",
       "\n",
       "    .dataframe thead th {\n",
       "        text-align: right;\n",
       "    }\n",
       "</style>\n",
       "<table border=\"1\" class=\"dataframe\">\n",
       "  <thead>\n",
       "    <tr style=\"text-align: right;\">\n",
       "      <th></th>\n",
       "      <th>mid_x</th>\n",
       "      <th>mid_y</th>\n",
       "      <th>mid_z</th>\n",
       "      <th>DTT_Fe_Conc_Grade</th>\n",
       "      <th>DTT_Mass_Recovery</th>\n",
       "      <th>MS_Actual</th>\n",
       "      <th>Al_pct</th>\n",
       "      <th>Ca_pct</th>\n",
       "      <th>Fe_pct</th>\n",
       "      <th>K_pct</th>\n",
       "      <th>Mg_pct</th>\n",
       "      <th>Na_pct</th>\n",
       "      <th>P_ppm</th>\n",
       "      <th>S_pct</th>\n",
       "      <th>Si_pct</th>\n",
       "      <th>Ti_pct</th>\n",
       "      <th>Py</th>\n",
       "    </tr>\n",
       "  </thead>\n",
       "  <tbody>\n",
       "    <tr>\n",
       "      <th>mid_x</th>\n",
       "      <td>1.000000</td>\n",
       "      <td>-0.117852</td>\n",
       "      <td>0.261128</td>\n",
       "      <td>-0.041270</td>\n",
       "      <td>-0.119393</td>\n",
       "      <td>-0.073845</td>\n",
       "      <td>-0.174730</td>\n",
       "      <td>0.019673</td>\n",
       "      <td>0.020723</td>\n",
       "      <td>0.045258</td>\n",
       "      <td>-0.143365</td>\n",
       "      <td>-0.525344</td>\n",
       "      <td>0.087973</td>\n",
       "      <td>-0.298057</td>\n",
       "      <td>-0.086854</td>\n",
       "      <td>0.118758</td>\n",
       "      <td>-0.132344</td>\n",
       "    </tr>\n",
       "    <tr>\n",
       "      <th>mid_y</th>\n",
       "      <td>-0.117852</td>\n",
       "      <td>1.000000</td>\n",
       "      <td>-0.686144</td>\n",
       "      <td>0.472999</td>\n",
       "      <td>0.570425</td>\n",
       "      <td>0.572367</td>\n",
       "      <td>-0.270994</td>\n",
       "      <td>0.156267</td>\n",
       "      <td>0.407416</td>\n",
       "      <td>-0.265280</td>\n",
       "      <td>-0.013992</td>\n",
       "      <td>0.061508</td>\n",
       "      <td>-0.389600</td>\n",
       "      <td>-0.002028</td>\n",
       "      <td>-0.371105</td>\n",
       "      <td>-0.457939</td>\n",
       "      <td>-0.132793</td>\n",
       "    </tr>\n",
       "    <tr>\n",
       "      <th>mid_z</th>\n",
       "      <td>0.261128</td>\n",
       "      <td>-0.686144</td>\n",
       "      <td>1.000000</td>\n",
       "      <td>-0.585063</td>\n",
       "      <td>-0.544124</td>\n",
       "      <td>-0.666501</td>\n",
       "      <td>0.313751</td>\n",
       "      <td>-0.282842</td>\n",
       "      <td>-0.491615</td>\n",
       "      <td>0.350175</td>\n",
       "      <td>0.143887</td>\n",
       "      <td>-0.192034</td>\n",
       "      <td>0.417473</td>\n",
       "      <td>0.101913</td>\n",
       "      <td>0.600519</td>\n",
       "      <td>0.519316</td>\n",
       "      <td>0.081329</td>\n",
       "    </tr>\n",
       "    <tr>\n",
       "      <th>DTT_Fe_Conc_Grade</th>\n",
       "      <td>-0.041270</td>\n",
       "      <td>0.472999</td>\n",
       "      <td>-0.585063</td>\n",
       "      <td>1.000000</td>\n",
       "      <td>0.418126</td>\n",
       "      <td>0.626072</td>\n",
       "      <td>-0.557373</td>\n",
       "      <td>0.133019</td>\n",
       "      <td>0.755355</td>\n",
       "      <td>-0.549679</td>\n",
       "      <td>-0.186770</td>\n",
       "      <td>-0.121157</td>\n",
       "      <td>-0.441025</td>\n",
       "      <td>-0.222179</td>\n",
       "      <td>-0.519616</td>\n",
       "      <td>-0.474382</td>\n",
       "      <td>0.009285</td>\n",
       "    </tr>\n",
       "    <tr>\n",
       "      <th>DTT_Mass_Recovery</th>\n",
       "      <td>-0.119393</td>\n",
       "      <td>0.570425</td>\n",
       "      <td>-0.544124</td>\n",
       "      <td>0.418126</td>\n",
       "      <td>1.000000</td>\n",
       "      <td>0.928169</td>\n",
       "      <td>-0.614816</td>\n",
       "      <td>0.154420</td>\n",
       "      <td>0.750426</td>\n",
       "      <td>-0.245115</td>\n",
       "      <td>-0.003342</td>\n",
       "      <td>-0.032449</td>\n",
       "      <td>-0.608863</td>\n",
       "      <td>-0.131551</td>\n",
       "      <td>-0.266599</td>\n",
       "      <td>-0.628323</td>\n",
       "      <td>-0.040387</td>\n",
       "    </tr>\n",
       "    <tr>\n",
       "      <th>MS_Actual</th>\n",
       "      <td>-0.073845</td>\n",
       "      <td>0.572367</td>\n",
       "      <td>-0.666501</td>\n",
       "      <td>0.626072</td>\n",
       "      <td>0.928169</td>\n",
       "      <td>1.000000</td>\n",
       "      <td>-0.701548</td>\n",
       "      <td>0.194839</td>\n",
       "      <td>0.850639</td>\n",
       "      <td>-0.422903</td>\n",
       "      <td>-0.082478</td>\n",
       "      <td>-0.084862</td>\n",
       "      <td>-0.670223</td>\n",
       "      <td>-0.180297</td>\n",
       "      <td>-0.442407</td>\n",
       "      <td>-0.706736</td>\n",
       "      <td>-0.032261</td>\n",
       "    </tr>\n",
       "    <tr>\n",
       "      <th>Al_pct</th>\n",
       "      <td>-0.174730</td>\n",
       "      <td>-0.270994</td>\n",
       "      <td>0.313751</td>\n",
       "      <td>-0.557373</td>\n",
       "      <td>-0.614816</td>\n",
       "      <td>-0.701548</td>\n",
       "      <td>1.000000</td>\n",
       "      <td>-0.205772</td>\n",
       "      <td>-0.837253</td>\n",
       "      <td>0.448983</td>\n",
       "      <td>0.289059</td>\n",
       "      <td>0.491251</td>\n",
       "      <td>0.706016</td>\n",
       "      <td>0.114594</td>\n",
       "      <td>0.152878</td>\n",
       "      <td>0.703399</td>\n",
       "      <td>-0.317627</td>\n",
       "    </tr>\n",
       "    <tr>\n",
       "      <th>Ca_pct</th>\n",
       "      <td>0.019673</td>\n",
       "      <td>0.156267</td>\n",
       "      <td>-0.282842</td>\n",
       "      <td>0.133019</td>\n",
       "      <td>0.154420</td>\n",
       "      <td>0.194839</td>\n",
       "      <td>-0.205772</td>\n",
       "      <td>1.000000</td>\n",
       "      <td>0.143784</td>\n",
       "      <td>0.207917</td>\n",
       "      <td>-0.288791</td>\n",
       "      <td>-0.126269</td>\n",
       "      <td>-0.135671</td>\n",
       "      <td>0.123543</td>\n",
       "      <td>-0.239045</td>\n",
       "      <td>-0.317604</td>\n",
       "      <td>-0.048810</td>\n",
       "    </tr>\n",
       "    <tr>\n",
       "      <th>Fe_pct</th>\n",
       "      <td>0.020723</td>\n",
       "      <td>0.407416</td>\n",
       "      <td>-0.491615</td>\n",
       "      <td>0.755355</td>\n",
       "      <td>0.750426</td>\n",
       "      <td>0.850639</td>\n",
       "      <td>-0.837253</td>\n",
       "      <td>0.143784</td>\n",
       "      <td>1.000000</td>\n",
       "      <td>-0.481478</td>\n",
       "      <td>-0.168532</td>\n",
       "      <td>-0.264795</td>\n",
       "      <td>-0.692962</td>\n",
       "      <td>-0.229216</td>\n",
       "      <td>-0.404543</td>\n",
       "      <td>-0.727230</td>\n",
       "      <td>0.094339</td>\n",
       "    </tr>\n",
       "    <tr>\n",
       "      <th>K_pct</th>\n",
       "      <td>0.045258</td>\n",
       "      <td>-0.265280</td>\n",
       "      <td>0.350175</td>\n",
       "      <td>-0.549679</td>\n",
       "      <td>-0.245115</td>\n",
       "      <td>-0.422903</td>\n",
       "      <td>0.448983</td>\n",
       "      <td>0.207917</td>\n",
       "      <td>-0.481478</td>\n",
       "      <td>1.000000</td>\n",
       "      <td>-0.014674</td>\n",
       "      <td>-0.050469</td>\n",
       "      <td>0.385495</td>\n",
       "      <td>0.153286</td>\n",
       "      <td>0.272621</td>\n",
       "      <td>0.357865</td>\n",
       "      <td>-0.121586</td>\n",
       "    </tr>\n",
       "    <tr>\n",
       "      <th>Mg_pct</th>\n",
       "      <td>-0.143365</td>\n",
       "      <td>-0.013992</td>\n",
       "      <td>0.143887</td>\n",
       "      <td>-0.186770</td>\n",
       "      <td>-0.003342</td>\n",
       "      <td>-0.082478</td>\n",
       "      <td>0.289059</td>\n",
       "      <td>-0.288791</td>\n",
       "      <td>-0.168532</td>\n",
       "      <td>-0.014674</td>\n",
       "      <td>1.000000</td>\n",
       "      <td>0.269931</td>\n",
       "      <td>0.044499</td>\n",
       "      <td>-0.123865</td>\n",
       "      <td>-0.137817</td>\n",
       "      <td>0.064299</td>\n",
       "      <td>-0.065130</td>\n",
       "    </tr>\n",
       "    <tr>\n",
       "      <th>Na_pct</th>\n",
       "      <td>-0.525344</td>\n",
       "      <td>0.061508</td>\n",
       "      <td>-0.192034</td>\n",
       "      <td>-0.121157</td>\n",
       "      <td>-0.032449</td>\n",
       "      <td>-0.084862</td>\n",
       "      <td>0.491251</td>\n",
       "      <td>-0.126269</td>\n",
       "      <td>-0.264795</td>\n",
       "      <td>-0.050469</td>\n",
       "      <td>0.269931</td>\n",
       "      <td>1.000000</td>\n",
       "      <td>0.127669</td>\n",
       "      <td>0.189829</td>\n",
       "      <td>-0.220866</td>\n",
       "      <td>0.049443</td>\n",
       "      <td>-0.133405</td>\n",
       "    </tr>\n",
       "    <tr>\n",
       "      <th>P_ppm</th>\n",
       "      <td>0.087973</td>\n",
       "      <td>-0.389600</td>\n",
       "      <td>0.417473</td>\n",
       "      <td>-0.441025</td>\n",
       "      <td>-0.608863</td>\n",
       "      <td>-0.670223</td>\n",
       "      <td>0.706016</td>\n",
       "      <td>-0.135671</td>\n",
       "      <td>-0.692962</td>\n",
       "      <td>0.385495</td>\n",
       "      <td>0.044499</td>\n",
       "      <td>0.127669</td>\n",
       "      <td>1.000000</td>\n",
       "      <td>-0.205258</td>\n",
       "      <td>0.315115</td>\n",
       "      <td>0.904195</td>\n",
       "      <td>-0.215553</td>\n",
       "    </tr>\n",
       "    <tr>\n",
       "      <th>S_pct</th>\n",
       "      <td>-0.298057</td>\n",
       "      <td>-0.002028</td>\n",
       "      <td>0.101913</td>\n",
       "      <td>-0.222179</td>\n",
       "      <td>-0.131551</td>\n",
       "      <td>-0.180297</td>\n",
       "      <td>0.114594</td>\n",
       "      <td>0.123543</td>\n",
       "      <td>-0.229216</td>\n",
       "      <td>0.153286</td>\n",
       "      <td>-0.123865</td>\n",
       "      <td>0.189829</td>\n",
       "      <td>-0.205258</td>\n",
       "      <td>1.000000</td>\n",
       "      <td>0.091374</td>\n",
       "      <td>-0.150913</td>\n",
       "      <td>0.190579</td>\n",
       "    </tr>\n",
       "    <tr>\n",
       "      <th>Si_pct</th>\n",
       "      <td>-0.086854</td>\n",
       "      <td>-0.371105</td>\n",
       "      <td>0.600519</td>\n",
       "      <td>-0.519616</td>\n",
       "      <td>-0.266599</td>\n",
       "      <td>-0.442407</td>\n",
       "      <td>0.152878</td>\n",
       "      <td>-0.239045</td>\n",
       "      <td>-0.404543</td>\n",
       "      <td>0.272621</td>\n",
       "      <td>-0.137817</td>\n",
       "      <td>-0.220866</td>\n",
       "      <td>0.315115</td>\n",
       "      <td>0.091374</td>\n",
       "      <td>1.000000</td>\n",
       "      <td>0.368083</td>\n",
       "      <td>0.191967</td>\n",
       "    </tr>\n",
       "    <tr>\n",
       "      <th>Ti_pct</th>\n",
       "      <td>0.118758</td>\n",
       "      <td>-0.457939</td>\n",
       "      <td>0.519316</td>\n",
       "      <td>-0.474382</td>\n",
       "      <td>-0.628323</td>\n",
       "      <td>-0.706736</td>\n",
       "      <td>0.703399</td>\n",
       "      <td>-0.317604</td>\n",
       "      <td>-0.727230</td>\n",
       "      <td>0.357865</td>\n",
       "      <td>0.064299</td>\n",
       "      <td>0.049443</td>\n",
       "      <td>0.904195</td>\n",
       "      <td>-0.150913</td>\n",
       "      <td>0.368083</td>\n",
       "      <td>1.000000</td>\n",
       "      <td>-0.162454</td>\n",
       "    </tr>\n",
       "    <tr>\n",
       "      <th>Py</th>\n",
       "      <td>-0.132344</td>\n",
       "      <td>-0.132793</td>\n",
       "      <td>0.081329</td>\n",
       "      <td>0.009285</td>\n",
       "      <td>-0.040387</td>\n",
       "      <td>-0.032261</td>\n",
       "      <td>-0.317627</td>\n",
       "      <td>-0.048810</td>\n",
       "      <td>0.094339</td>\n",
       "      <td>-0.121586</td>\n",
       "      <td>-0.065130</td>\n",
       "      <td>-0.133405</td>\n",
       "      <td>-0.215553</td>\n",
       "      <td>0.190579</td>\n",
       "      <td>0.191967</td>\n",
       "      <td>-0.162454</td>\n",
       "      <td>1.000000</td>\n",
       "    </tr>\n",
       "  </tbody>\n",
       "</table>\n",
       "</div>"
      ],
      "text/plain": [
       "                      mid_x     mid_y     mid_z  DTT_Fe_Conc_Grade  \\\n",
       "mid_x              1.000000 -0.117852  0.261128          -0.041270   \n",
       "mid_y             -0.117852  1.000000 -0.686144           0.472999   \n",
       "mid_z              0.261128 -0.686144  1.000000          -0.585063   \n",
       "DTT_Fe_Conc_Grade -0.041270  0.472999 -0.585063           1.000000   \n",
       "DTT_Mass_Recovery -0.119393  0.570425 -0.544124           0.418126   \n",
       "MS_Actual         -0.073845  0.572367 -0.666501           0.626072   \n",
       "Al_pct            -0.174730 -0.270994  0.313751          -0.557373   \n",
       "Ca_pct             0.019673  0.156267 -0.282842           0.133019   \n",
       "Fe_pct             0.020723  0.407416 -0.491615           0.755355   \n",
       "K_pct              0.045258 -0.265280  0.350175          -0.549679   \n",
       "Mg_pct            -0.143365 -0.013992  0.143887          -0.186770   \n",
       "Na_pct            -0.525344  0.061508 -0.192034          -0.121157   \n",
       "P_ppm              0.087973 -0.389600  0.417473          -0.441025   \n",
       "S_pct             -0.298057 -0.002028  0.101913          -0.222179   \n",
       "Si_pct            -0.086854 -0.371105  0.600519          -0.519616   \n",
       "Ti_pct             0.118758 -0.457939  0.519316          -0.474382   \n",
       "Py                -0.132344 -0.132793  0.081329           0.009285   \n",
       "\n",
       "                   DTT_Mass_Recovery  MS_Actual    Al_pct    Ca_pct    Fe_pct  \\\n",
       "mid_x                      -0.119393  -0.073845 -0.174730  0.019673  0.020723   \n",
       "mid_y                       0.570425   0.572367 -0.270994  0.156267  0.407416   \n",
       "mid_z                      -0.544124  -0.666501  0.313751 -0.282842 -0.491615   \n",
       "DTT_Fe_Conc_Grade           0.418126   0.626072 -0.557373  0.133019  0.755355   \n",
       "DTT_Mass_Recovery           1.000000   0.928169 -0.614816  0.154420  0.750426   \n",
       "MS_Actual                   0.928169   1.000000 -0.701548  0.194839  0.850639   \n",
       "Al_pct                     -0.614816  -0.701548  1.000000 -0.205772 -0.837253   \n",
       "Ca_pct                      0.154420   0.194839 -0.205772  1.000000  0.143784   \n",
       "Fe_pct                      0.750426   0.850639 -0.837253  0.143784  1.000000   \n",
       "K_pct                      -0.245115  -0.422903  0.448983  0.207917 -0.481478   \n",
       "Mg_pct                     -0.003342  -0.082478  0.289059 -0.288791 -0.168532   \n",
       "Na_pct                     -0.032449  -0.084862  0.491251 -0.126269 -0.264795   \n",
       "P_ppm                      -0.608863  -0.670223  0.706016 -0.135671 -0.692962   \n",
       "S_pct                      -0.131551  -0.180297  0.114594  0.123543 -0.229216   \n",
       "Si_pct                     -0.266599  -0.442407  0.152878 -0.239045 -0.404543   \n",
       "Ti_pct                     -0.628323  -0.706736  0.703399 -0.317604 -0.727230   \n",
       "Py                         -0.040387  -0.032261 -0.317627 -0.048810  0.094339   \n",
       "\n",
       "                      K_pct    Mg_pct    Na_pct     P_ppm     S_pct    Si_pct  \\\n",
       "mid_x              0.045258 -0.143365 -0.525344  0.087973 -0.298057 -0.086854   \n",
       "mid_y             -0.265280 -0.013992  0.061508 -0.389600 -0.002028 -0.371105   \n",
       "mid_z              0.350175  0.143887 -0.192034  0.417473  0.101913  0.600519   \n",
       "DTT_Fe_Conc_Grade -0.549679 -0.186770 -0.121157 -0.441025 -0.222179 -0.519616   \n",
       "DTT_Mass_Recovery -0.245115 -0.003342 -0.032449 -0.608863 -0.131551 -0.266599   \n",
       "MS_Actual         -0.422903 -0.082478 -0.084862 -0.670223 -0.180297 -0.442407   \n",
       "Al_pct             0.448983  0.289059  0.491251  0.706016  0.114594  0.152878   \n",
       "Ca_pct             0.207917 -0.288791 -0.126269 -0.135671  0.123543 -0.239045   \n",
       "Fe_pct            -0.481478 -0.168532 -0.264795 -0.692962 -0.229216 -0.404543   \n",
       "K_pct              1.000000 -0.014674 -0.050469  0.385495  0.153286  0.272621   \n",
       "Mg_pct            -0.014674  1.000000  0.269931  0.044499 -0.123865 -0.137817   \n",
       "Na_pct            -0.050469  0.269931  1.000000  0.127669  0.189829 -0.220866   \n",
       "P_ppm              0.385495  0.044499  0.127669  1.000000 -0.205258  0.315115   \n",
       "S_pct              0.153286 -0.123865  0.189829 -0.205258  1.000000  0.091374   \n",
       "Si_pct             0.272621 -0.137817 -0.220866  0.315115  0.091374  1.000000   \n",
       "Ti_pct             0.357865  0.064299  0.049443  0.904195 -0.150913  0.368083   \n",
       "Py                -0.121586 -0.065130 -0.133405 -0.215553  0.190579  0.191967   \n",
       "\n",
       "                     Ti_pct        Py  \n",
       "mid_x              0.118758 -0.132344  \n",
       "mid_y             -0.457939 -0.132793  \n",
       "mid_z              0.519316  0.081329  \n",
       "DTT_Fe_Conc_Grade -0.474382  0.009285  \n",
       "DTT_Mass_Recovery -0.628323 -0.040387  \n",
       "MS_Actual         -0.706736 -0.032261  \n",
       "Al_pct             0.703399 -0.317627  \n",
       "Ca_pct            -0.317604 -0.048810  \n",
       "Fe_pct            -0.727230  0.094339  \n",
       "K_pct              0.357865 -0.121586  \n",
       "Mg_pct             0.064299 -0.065130  \n",
       "Na_pct             0.049443 -0.133405  \n",
       "P_ppm              0.904195 -0.215553  \n",
       "S_pct             -0.150913  0.190579  \n",
       "Si_pct             0.368083  0.191967  \n",
       "Ti_pct             1.000000 -0.162454  \n",
       "Py                -0.162454  1.000000  "
      ]
     },
     "execution_count": 8,
     "metadata": {},
     "output_type": "execute_result"
    }
   ],
   "source": [
    "df.corr()"
   ]
  },
  {
   "cell_type": "code",
   "execution_count": 9,
   "id": "7a449eed",
   "metadata": {},
   "outputs": [
    {
     "data": {
      "text/plain": [
       "<AxesSubplot:>"
      ]
     },
     "execution_count": 9,
     "metadata": {},
     "output_type": "execute_result"
    },
    {
     "data": {
      "image/png": "[encoded data removed]",
      "text/plain": [
       "<Figure size 432x432 with 2 Axes>"
      ]
     },
     "metadata": {
      "needs_background": "light"
     },
     "output_type": "display_data"
    }
   ],
   "source": [
    "# Plotting PCs correlation = 0\n",
    "\n",
    "plt.figure(figsize=(6,6))\n",
    "\n",
    "sns.heatmap(df.corr(),\n",
    "           cmap='coolwarm')"
   ]
  },
  {
   "cell_type": "code",
   "execution_count": 10,
   "id": "74200e87",
   "metadata": {},
   "outputs": [],
   "source": [
    "temp = df.columns.to_list"
   ]
  },
  {
   "cell_type": "code",
   "execution_count": 11,
   "id": "01c8e497",
   "metadata": {},
   "outputs": [],
   "source": [
    "# For this particular ANDE_UPPER case, more complex algorithms with high amount of features does not work w=very well.\n",
    "# For this reason, it is used a model based only in the numerical features with the highest correlation."
   ]
  },
  {
   "cell_type": "code",
   "execution_count": 12,
   "id": "bd97b096",
   "metadata": {},
   "outputs": [],
   "source": [
    "df = df.drop(['mid_x', 'mid_y', 'mid_z', 'Ca_pct', 'Mg_pct', 'Na_pct', 'S_pct', 'Py', 'MAGSUS_MOD', 'Si_pct'], axis=1)"
   ]
  },
  {
   "cell_type": "code",
   "execution_count": 13,
   "id": "164ac17c",
   "metadata": {},
   "outputs": [
    {
     "data": {
      "text/plain": [
       "Index(['DTT_Fe_Conc_Grade', 'DTT_Mass_Recovery', 'MS_Actual', 'Al_pct',\n",
       "       'Fe_pct', 'K_pct', 'P_ppm', 'Ti_pct'],\n",
       "      dtype='object')"
      ]
     },
     "execution_count": 13,
     "metadata": {},
     "output_type": "execute_result"
    }
   ],
   "source": [
    "df.columns"
   ]
  },
  {
   "cell_type": "code",
   "execution_count": 14,
   "id": "11c19c95",
   "metadata": {},
   "outputs": [
    {
     "data": {
      "text/plain": [
       "46"
      ]
     },
     "execution_count": 14,
     "metadata": {},
     "output_type": "execute_result"
    }
   ],
   "source": [
    "X = df.drop('DTT_Fe_Conc_Grade', axis=1)\n",
    "#X = X.drop(columns=['Unnamed: 0']) \n",
    "y = df['DTT_Fe_Conc_Grade']\n",
    "#y = y.drop(columns=['Unnamed: 0'])\n",
    "len(y)"
   ]
  },
  {
   "cell_type": "code",
   "execution_count": 15,
   "id": "9d7a0065",
   "metadata": {},
   "outputs": [],
   "source": [
    "# Data split\n",
    "\n",
    "X_train, X_test, y_train, y_test = train_test_split(X, y, test_size=0.2, random_state=3)"
   ]
  },
  {
   "cell_type": "markdown",
   "id": "b04306ad",
   "metadata": {},
   "source": [
    "## Linear Regression Model"
   ]
  },
  {
   "cell_type": "code",
   "execution_count": 16,
   "id": "0168fecb",
   "metadata": {},
   "outputs": [],
   "source": [
    "model = LinearRegression()"
   ]
  },
  {
   "cell_type": "code",
   "execution_count": 17,
   "id": "057cdd24",
   "metadata": {},
   "outputs": [],
   "source": [
    "model = model.fit(X_train, y_train)"
   ]
  },
  {
   "cell_type": "code",
   "execution_count": 18,
   "id": "38b8bd15",
   "metadata": {},
   "outputs": [],
   "source": [
    "y_pred = model.predict(X_test)"
   ]
  },
  {
   "cell_type": "code",
   "execution_count": 19,
   "id": "ef64ad41",
   "metadata": {},
   "outputs": [
    {
     "data": {
      "text/plain": [
       "42.28877771990829"
      ]
     },
     "execution_count": 19,
     "metadata": {},
     "output_type": "execute_result"
    }
   ],
   "source": [
    "y_pred.mean()"
   ]
  },
  {
   "cell_type": "markdown",
   "id": "74740ac5",
   "metadata": {},
   "source": [
    "## Prediction"
   ]
  },
  {
   "cell_type": "code",
   "execution_count": 152,
   "id": "c1ed3335",
   "metadata": {},
   "outputs": [
    {
     "data": {
      "text/plain": [
       "(1813, 7)"
      ]
     },
     "execution_count": 152,
     "metadata": {},
     "output_type": "execute_result"
    }
   ],
   "source": [
    "# The prediction is conducted with Extreme Gradient Boosting algorithm\n",
    "\n",
    "X_drillholes = pd.read_csv('DB_Fe_conc_predictions_sulfides_ande_U.csv', index_col=[0])\n",
    "X_drillholes.shape"
   ]
  },
  {
   "cell_type": "code",
   "execution_count": 153,
   "id": "c3a5b8ab",
   "metadata": {},
   "outputs": [],
   "source": [
    "y_pred_drillholes = model.predict(X_drillholes)"
   ]
  },
  {
   "cell_type": "code",
   "execution_count": 154,
   "id": "32b590b8",
   "metadata": {},
   "outputs": [
    {
     "data": {
      "text/plain": [
       "40.02041975031297"
      ]
     },
     "execution_count": 154,
     "metadata": {},
     "output_type": "execute_result"
    }
   ],
   "source": [
    "y_pred_drillholes.mean()"
   ]
  },
  {
   "cell_type": "code",
   "execution_count": 158,
   "id": "bb6b533c",
   "metadata": {},
   "outputs": [
    {
     "data": {
      "text/plain": [
       "37.77062730969851"
      ]
     },
     "execution_count": 158,
     "metadata": {},
     "output_type": "execute_result"
    }
   ],
   "source": [
    "np.median(y_pred_drillholes)"
   ]
  },
  {
   "cell_type": "code",
   "execution_count": 159,
   "id": "a0fed596",
   "metadata": {},
   "outputs": [
    {
     "data": {
      "text/html": [
       "<div>\n",
       "<style scoped>\n",
       "    .dataframe tbody tr th:only-of-type {\n",
       "        vertical-align: middle;\n",
       "    }\n",
       "\n",
       "    .dataframe tbody tr th {\n",
       "        vertical-align: top;\n",
       "    }\n",
       "\n",
       "    .dataframe thead th {\n",
       "        text-align: right;\n",
       "    }\n",
       "</style>\n",
       "<table border=\"1\" class=\"dataframe\">\n",
       "  <thead>\n",
       "    <tr style=\"text-align: right;\">\n",
       "      <th></th>\n",
       "      <th>0</th>\n",
       "    </tr>\n",
       "  </thead>\n",
       "  <tbody>\n",
       "    <tr>\n",
       "      <th>0</th>\n",
       "      <td>34.248531</td>\n",
       "    </tr>\n",
       "    <tr>\n",
       "      <th>1</th>\n",
       "      <td>36.641887</td>\n",
       "    </tr>\n",
       "    <tr>\n",
       "      <th>2</th>\n",
       "      <td>36.641887</td>\n",
       "    </tr>\n",
       "    <tr>\n",
       "      <th>3</th>\n",
       "      <td>36.641887</td>\n",
       "    </tr>\n",
       "    <tr>\n",
       "      <th>4</th>\n",
       "      <td>35.624229</td>\n",
       "    </tr>\n",
       "    <tr>\n",
       "      <th>...</th>\n",
       "      <td>...</td>\n",
       "    </tr>\n",
       "    <tr>\n",
       "      <th>1808</th>\n",
       "      <td>35.880978</td>\n",
       "    </tr>\n",
       "    <tr>\n",
       "      <th>1809</th>\n",
       "      <td>37.649331</td>\n",
       "    </tr>\n",
       "    <tr>\n",
       "      <th>1810</th>\n",
       "      <td>34.671639</td>\n",
       "    </tr>\n",
       "    <tr>\n",
       "      <th>1811</th>\n",
       "      <td>34.216860</td>\n",
       "    </tr>\n",
       "    <tr>\n",
       "      <th>1812</th>\n",
       "      <td>35.687387</td>\n",
       "    </tr>\n",
       "  </tbody>\n",
       "</table>\n",
       "<p>1813 rows × 1 columns</p>\n",
       "</div>"
      ],
      "text/plain": [
       "              0\n",
       "0     34.248531\n",
       "1     36.641887\n",
       "2     36.641887\n",
       "3     36.641887\n",
       "4     35.624229\n",
       "...         ...\n",
       "1808  35.880978\n",
       "1809  37.649331\n",
       "1810  34.671639\n",
       "1811  34.216860\n",
       "1812  35.687387\n",
       "\n",
       "[1813 rows x 1 columns]"
      ]
     },
     "execution_count": 159,
     "metadata": {},
     "output_type": "execute_result"
    }
   ],
   "source": [
    "y_pred_drillholes = pd.DataFrame([y_pred_drillholes]).T\n",
    "y_pred_drillholes"
   ]
  },
  {
   "cell_type": "code",
   "execution_count": 160,
   "id": "89a8be93",
   "metadata": {},
   "outputs": [],
   "source": [
    "y_pred_drillholes.to_csv('y_pred_drillholes_ande_U.csv')"
   ]
  },
  {
   "cell_type": "code",
   "execution_count": 20,
   "id": "5e2d1da9",
   "metadata": {},
   "outputs": [],
   "source": [
    "# This model produces inconsistent results (negatives or over 100%) for the target prediction of drillhole samples.\n",
    "# XGBoosted will be tested below."
   ]
  },
  {
   "cell_type": "markdown",
   "id": "7f795d52",
   "metadata": {},
   "source": [
    "## XGB"
   ]
  },
  {
   "cell_type": "code",
   "execution_count": 21,
   "id": "702df9b0",
   "metadata": {},
   "outputs": [],
   "source": [
    "model_xgb = XGBRegressor()"
   ]
  },
  {
   "cell_type": "code",
   "execution_count": 23,
   "id": "298ac615",
   "metadata": {},
   "outputs": [],
   "source": [
    "model_xgb = model_xgb.fit(X_train, y_train)"
   ]
  },
  {
   "cell_type": "code",
   "execution_count": 24,
   "id": "1dd858a7",
   "metadata": {},
   "outputs": [],
   "source": [
    "y_pred = model_xgb.predict(X_test)"
   ]
  },
  {
   "cell_type": "code",
   "execution_count": 25,
   "id": "9e332f82",
   "metadata": {},
   "outputs": [
    {
     "data": {
      "text/plain": [
       "40.487938"
      ]
     },
     "execution_count": 25,
     "metadata": {},
     "output_type": "execute_result"
    }
   ],
   "source": [
    "y_pred.mean()"
   ]
  },
  {
   "cell_type": "markdown",
   "id": "d2b1e095",
   "metadata": {},
   "source": [
    "## Prediction"
   ]
  },
  {
   "cell_type": "code",
   "execution_count": 27,
   "id": "4a830691",
   "metadata": {},
   "outputs": [
    {
     "data": {
      "text/plain": [
       "(1813, 7)"
      ]
     },
     "execution_count": 27,
     "metadata": {},
     "output_type": "execute_result"
    }
   ],
   "source": [
    "# The prediction is conducted with Extreme Gradient Boosting algorithm\n",
    "\n",
    "X_drillholes = pd.read_csv('DB_Fe_conc_predictions_sulfides_ande_U.csv', index_col=[0])\n",
    "X_drillholes.shape"
   ]
  },
  {
   "cell_type": "code",
   "execution_count": 29,
   "id": "4bd31fef",
   "metadata": {},
   "outputs": [],
   "source": [
    "y_pred_drillholes_final = model_xgb.predict(X_drillholes)"
   ]
  },
  {
   "cell_type": "code",
   "execution_count": 30,
   "id": "23652072",
   "metadata": {},
   "outputs": [
    {
     "data": {
      "text/html": [
       "<div>\n",
       "<style scoped>\n",
       "    .dataframe tbody tr th:only-of-type {\n",
       "        vertical-align: middle;\n",
       "    }\n",
       "\n",
       "    .dataframe tbody tr th {\n",
       "        vertical-align: top;\n",
       "    }\n",
       "\n",
       "    .dataframe thead th {\n",
       "        text-align: right;\n",
       "    }\n",
       "</style>\n",
       "<table border=\"1\" class=\"dataframe\">\n",
       "  <thead>\n",
       "    <tr style=\"text-align: right;\">\n",
       "      <th></th>\n",
       "      <th>0</th>\n",
       "    </tr>\n",
       "  </thead>\n",
       "  <tbody>\n",
       "    <tr>\n",
       "      <th>0</th>\n",
       "      <td>52.946236</td>\n",
       "    </tr>\n",
       "    <tr>\n",
       "      <th>1</th>\n",
       "      <td>35.586205</td>\n",
       "    </tr>\n",
       "    <tr>\n",
       "      <th>2</th>\n",
       "      <td>35.586205</td>\n",
       "    </tr>\n",
       "    <tr>\n",
       "      <th>3</th>\n",
       "      <td>35.586205</td>\n",
       "    </tr>\n",
       "    <tr>\n",
       "      <th>4</th>\n",
       "      <td>47.510246</td>\n",
       "    </tr>\n",
       "    <tr>\n",
       "      <th>...</th>\n",
       "      <td>...</td>\n",
       "    </tr>\n",
       "    <tr>\n",
       "      <th>1808</th>\n",
       "      <td>20.206150</td>\n",
       "    </tr>\n",
       "    <tr>\n",
       "      <th>1809</th>\n",
       "      <td>33.673447</td>\n",
       "    </tr>\n",
       "    <tr>\n",
       "      <th>1810</th>\n",
       "      <td>28.497280</td>\n",
       "    </tr>\n",
       "    <tr>\n",
       "      <th>1811</th>\n",
       "      <td>27.696239</td>\n",
       "    </tr>\n",
       "    <tr>\n",
       "      <th>1812</th>\n",
       "      <td>28.491159</td>\n",
       "    </tr>\n",
       "  </tbody>\n",
       "</table>\n",
       "<p>1813 rows × 1 columns</p>\n",
       "</div>"
      ],
      "text/plain": [
       "              0\n",
       "0     52.946236\n",
       "1     35.586205\n",
       "2     35.586205\n",
       "3     35.586205\n",
       "4     47.510246\n",
       "...         ...\n",
       "1808  20.206150\n",
       "1809  33.673447\n",
       "1810  28.497280\n",
       "1811  27.696239\n",
       "1812  28.491159\n",
       "\n",
       "[1813 rows x 1 columns]"
      ]
     },
     "execution_count": 30,
     "metadata": {},
     "output_type": "execute_result"
    }
   ],
   "source": [
    "y_pred_drillholes_final = pd.DataFrame([y_pred_drillholes_final]).T\n",
    "y_pred_drillholes_final"
   ]
  },
  {
   "cell_type": "code",
   "execution_count": 31,
   "id": "389ae0aa",
   "metadata": {},
   "outputs": [],
   "source": [
    "y_pred_drillholes_final.to_csv('y_pred_drillholes_ande_U.csv')"
   ]
  },
  {
   "cell_type": "code",
   "execution_count": null,
   "id": "ca6c9aea",
   "metadata": {},
   "outputs": [],
   "source": [
    "# END OF ANDE UPPER MODELLING"
   ]
  }
 ],
 "metadata": {
  "kernelspec": {
   "display_name": "Python 3 (ipykernel)",
   "language": "python",
   "name": "python3"
  },
  "language_info": {
   "codemirror_mode": {
    "name": "ipython",
    "version": 3
   },
   "file_extension": ".py",
   "mimetype": "text/x-python",
   "name": "python",
   "nbconvert_exporter": "python",
   "pygments_lexer": "ipython3",
   "version": "3.8.12"
  },
  "toc": {
   "base_numbering": 1,
   "nav_menu": {},
   "number_sections": true,
   "sideBar": true,
   "skip_h1_title": false,
   "title_cell": "Table of Contents",
   "title_sidebar": "Contents",
   "toc_cell": false,
   "toc_position": {},
   "toc_section_display": true,
   "toc_window_display": false
  }
 },
 "nbformat": 4,
 "nbformat_minor": 5
}
