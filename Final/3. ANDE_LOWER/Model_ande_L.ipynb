{
 "cells": [
  {
   "cell_type": "code",
   "execution_count": 5,
   "id": "70b49c5e",
   "metadata": {},
   "outputs": [
    {
     "name": "stderr",
     "output_type": "stream",
     "text": [
      "/home/jeraldo/.pyenv/versions/3.8.12/envs/lewagon/lib/python3.8/site-packages/xgboost/compat.py:36: FutureWarning: pandas.Int64Index is deprecated and will be removed from pandas in a future version. Use pandas.Index with the appropriate dtype instead.\n",
      "  from pandas import MultiIndex, Int64Index\n"
     ]
    }
   ],
   "source": [
    "# Fundamental modules/libraries\n",
    "import pandas as pd\n",
    "import numpy as np\n",
    "\n",
    "# Model selection\n",
    "from sklearn.model_selection import GridSearchCV\n",
    "from sklearn.model_selection import train_test_split\n",
    "\n",
    "#Regression algorithms \n",
    "from sklearn.tree import DecisionTreeRegressor\n",
    "from sklearn.neighbors import KNeighborsRegressor\n",
    "from sklearn.svm import SVR\n",
    "from xgboost import XGBRegressor\n",
    "from sklearn.ensemble import RandomForestRegressor\n",
    "from sklearn.ensemble import GradientBoostingRegressor\n",
    "from catboost import CatBoostRegressor\n",
    "from sklearn.linear_model import LinearRegression\n",
    "\n",
    "# Metrics\n",
    "from sklearn.metrics import mean_squared_error, mean_absolute_error, r2_score, max_error\n",
    "import math\n",
    "from sklearn.metrics import mean_squared_error as MSE\n",
    "\n",
    "# Visualization\n",
    "import matplotlib.pyplot as plt\n",
    "import seaborn as sns\n",
    "import plotly.graph_objects as go\n",
    "from scipy.stats import gaussian_kde\n",
    "import plotly.express as px\n",
    "from matplotlib.ticker import FormatStrFormatter"
   ]
  },
  {
   "cell_type": "code",
   "execution_count": 6,
   "id": "24ad5b46",
   "metadata": {},
   "outputs": [],
   "source": [
    "df = pd.read_csv('db_ande_L.csv')               \n",
    "X = df.drop('DTT_Fe_Conc_Grade', axis=1)\n",
    "X = X.drop(columns=['Unnamed: 0']) \n",
    "y = df['DTT_Fe_Conc_Grade']\n",
    "y = y.drop(columns=['Unnamed: 0']) "
   ]
  },
  {
   "cell_type": "code",
   "execution_count": 7,
   "id": "33d33cd3",
   "metadata": {},
   "outputs": [
    {
     "data": {
      "text/plain": [
       "0     38.330000\n",
       "1     38.330000\n",
       "2     48.600000\n",
       "3     37.300000\n",
       "4     35.490000\n",
       "        ...    \n",
       "94    64.917759\n",
       "95    68.217361\n",
       "96    53.944663\n",
       "97    60.083458\n",
       "98    30.233566\n",
       "Name: DTT_Fe_Conc_Grade, Length: 99, dtype: float64"
      ]
     },
     "execution_count": 7,
     "metadata": {},
     "output_type": "execute_result"
    }
   ],
   "source": [
    "y"
   ]
  },
  {
   "cell_type": "code",
   "execution_count": 8,
   "id": "98a07861",
   "metadata": {},
   "outputs": [],
   "source": [
    "# Data split\n",
    "\n",
    "X_train, X_test, y_train, y_test = train_test_split(X, y, test_size=0.2, random_state=42)"
   ]
  },
  {
   "cell_type": "code",
   "execution_count": 9,
   "id": "22eed7ea",
   "metadata": {},
   "outputs": [
    {
     "data": {
      "text/plain": [
       "49    65.290000\n",
       "70    50.420000\n",
       "68    53.770000\n",
       "15    54.010000\n",
       "39    52.340000\n",
       "        ...    \n",
       "60    69.560000\n",
       "71    50.420000\n",
       "14    58.720000\n",
       "92    68.063892\n",
       "51    67.300000\n",
       "Name: DTT_Fe_Conc_Grade, Length: 79, dtype: float64"
      ]
     },
     "execution_count": 9,
     "metadata": {},
     "output_type": "execute_result"
    }
   ],
   "source": [
    "y_train"
   ]
  },
  {
   "cell_type": "markdown",
   "id": "76ed2f1c",
   "metadata": {},
   "source": [
    "## Linear Regression Model"
   ]
  },
  {
   "cell_type": "code",
   "execution_count": 10,
   "id": "2f18fe4b",
   "metadata": {},
   "outputs": [
    {
     "data": {
      "text/plain": [
       "(99, 17)"
      ]
     },
     "execution_count": 10,
     "metadata": {},
     "output_type": "execute_result"
    }
   ],
   "source": [
    "X.shape"
   ]
  },
  {
   "cell_type": "code",
   "execution_count": 11,
   "id": "aa5b24dc",
   "metadata": {
    "scrolled": true
   },
   "outputs": [
    {
     "data": {
      "text/plain": [
       "(99, 16)"
      ]
     },
     "execution_count": 11,
     "metadata": {},
     "output_type": "execute_result"
    }
   ],
   "source": [
    "num_feat = X.select_dtypes(exclude=['object'])\n",
    "num_feat.shape"
   ]
  },
  {
   "cell_type": "code",
   "execution_count": 12,
   "id": "e9ca4728",
   "metadata": {},
   "outputs": [
    {
     "name": "stdout",
     "output_type": "stream",
     "text": [
      "<class 'pandas.core.frame.DataFrame'>\n",
      "RangeIndex: 99 entries, 0 to 98\n",
      "Data columns (total 16 columns):\n",
      " #   Column             Non-Null Count  Dtype  \n",
      "---  ------             --------------  -----  \n",
      " 0   mid_x              99 non-null     float64\n",
      " 1   mid_y              99 non-null     float64\n",
      " 2   mid_z              99 non-null     float64\n",
      " 3   DTT_Mass_Recovery  99 non-null     float64\n",
      " 4   MS_Actual          99 non-null     float64\n",
      " 5   Al_pct             99 non-null     float64\n",
      " 6   Ca_pct             99 non-null     float64\n",
      " 7   Fe_pct             99 non-null     float64\n",
      " 8   K_pct              99 non-null     float64\n",
      " 9   Mg_pct             99 non-null     float64\n",
      " 10  Na_pct             99 non-null     float64\n",
      " 11  P_ppm              99 non-null     int64  \n",
      " 12  S_pct              99 non-null     float64\n",
      " 13  Si_pct             99 non-null     float64\n",
      " 14  Ti_pct             99 non-null     float64\n",
      " 15  Py                 99 non-null     float64\n",
      "dtypes: float64(15), int64(1)\n",
      "memory usage: 12.5 KB\n"
     ]
    }
   ],
   "source": [
    "num_feat.info()"
   ]
  },
  {
   "cell_type": "code",
   "execution_count": 13,
   "id": "aae5db1b",
   "metadata": {},
   "outputs": [],
   "source": [
    "# Data split\n",
    "\n",
    "X_train_lr, X_test_lr, y_train_lr, y_test_lr = train_test_split(num_feat, y, test_size=0.2, random_state=42)"
   ]
  },
  {
   "cell_type": "code",
   "execution_count": 14,
   "id": "a341d78e",
   "metadata": {},
   "outputs": [
    {
     "data": {
      "text/plain": [
       "Index(['mid_x', 'mid_y', 'mid_z', 'DTT_Mass_Recovery', 'MS_Actual', 'Al_pct',\n",
       "       'Ca_pct', 'Fe_pct', 'K_pct', 'Mg_pct', 'Na_pct', 'P_ppm', 'S_pct',\n",
       "       'Si_pct', 'Ti_pct', 'Py'],\n",
       "      dtype='object')"
      ]
     },
     "execution_count": 14,
     "metadata": {},
     "output_type": "execute_result"
    }
   ],
   "source": [
    "X_train_lr.columns"
   ]
  },
  {
   "cell_type": "code",
   "execution_count": 15,
   "id": "762dd796",
   "metadata": {},
   "outputs": [],
   "source": [
    "lr = LinearRegression()"
   ]
  },
  {
   "cell_type": "code",
   "execution_count": 16,
   "id": "883ddb5e",
   "metadata": {},
   "outputs": [],
   "source": [
    "model_lr = lr.fit(X_train_lr, y_train_lr)"
   ]
  },
  {
   "cell_type": "code",
   "execution_count": 17,
   "id": "6656e04f",
   "metadata": {},
   "outputs": [],
   "source": [
    "y_pred_lr = model_lr.predict(X_test_lr)"
   ]
  },
  {
   "cell_type": "code",
   "execution_count": 18,
   "id": "7b4476bd",
   "metadata": {},
   "outputs": [
    {
     "name": "stdout",
     "output_type": "stream",
     "text": [
      "MSE = 118.04\n",
      "RMSE = 10.86\n",
      "MAE = 7.66\n",
      "R2 = 0.19\n",
      "Max Error = 25.87\n"
     ]
    }
   ],
   "source": [
    "# Metrics for the prediction\n",
    "\n",
    "mse = mean_squared_error(y_test, y_pred_lr)\n",
    "\n",
    "rmse = math.sqrt(mse)\n",
    "\n",
    "mae = mean_absolute_error(y_test, y_pred_lr)\n",
    "\n",
    "rsquared = r2_score(y_test, y_pred_lr)\n",
    "\n",
    "max_error = max_error(y_test, y_pred_lr)\n",
    "\n",
    "print('MSE =', round(mse, 2))\n",
    "print('RMSE =', round(rmse, 2))\n",
    "print('MAE =', round(mae, 2))\n",
    "print('R2 =', round(rsquared, 2))\n",
    "print('Max Error =', round(max_error, 2))"
   ]
  },
  {
   "cell_type": "code",
   "execution_count": 19,
   "id": "e5485ef2",
   "metadata": {
    "scrolled": true
   },
   "outputs": [
    {
     "data": {
      "image/png": "[encoded data removed]",
      "text/plain": [
       "<Figure size 432x288 with 1 Axes>"
      ]
     },
     "metadata": {
      "needs_background": "light"
     },
     "output_type": "display_data"
    }
   ],
   "source": [
    "fig, ax = plt.subplots()\n",
    "ax.scatter(y_test, y_pred_lr)\n",
    "ax.set_xlabel('Actual DTT_Fe_Conc_Grade')\n",
    "ax.set_ylabel('Predicted DTT_Fe_Conc_Grade')\n",
    "ax.set_title('R2: ' + str(r2_score(y_test, y_pred_lr)))\n",
    "\n",
    "plt.show()"
   ]
  },
  {
   "cell_type": "code",
   "execution_count": 20,
   "id": "b973f65e",
   "metadata": {},
   "outputs": [
    {
     "data": {
      "text/html": [
       "<div>\n",
       "<style scoped>\n",
       "    .dataframe tbody tr th:only-of-type {\n",
       "        vertical-align: middle;\n",
       "    }\n",
       "\n",
       "    .dataframe tbody tr th {\n",
       "        vertical-align: top;\n",
       "    }\n",
       "\n",
       "    .dataframe thead th {\n",
       "        text-align: right;\n",
       "    }\n",
       "</style>\n",
       "<table border=\"1\" class=\"dataframe\">\n",
       "  <thead>\n",
       "    <tr style=\"text-align: right;\">\n",
       "      <th></th>\n",
       "      <th>0</th>\n",
       "    </tr>\n",
       "  </thead>\n",
       "  <tbody>\n",
       "    <tr>\n",
       "      <th>0</th>\n",
       "      <td>-58.475323</td>\n",
       "    </tr>\n",
       "    <tr>\n",
       "      <th>1</th>\n",
       "      <td>-10.617487</td>\n",
       "    </tr>\n",
       "    <tr>\n",
       "      <th>2</th>\n",
       "      <td>-45.706144</td>\n",
       "    </tr>\n",
       "    <tr>\n",
       "      <th>3</th>\n",
       "      <td>-20.131911</td>\n",
       "    </tr>\n",
       "    <tr>\n",
       "      <th>4</th>\n",
       "      <td>-25.863713</td>\n",
       "    </tr>\n",
       "    <tr>\n",
       "      <th>5</th>\n",
       "      <td>4.279144</td>\n",
       "    </tr>\n",
       "    <tr>\n",
       "      <th>6</th>\n",
       "      <td>-6.052548</td>\n",
       "    </tr>\n",
       "    <tr>\n",
       "      <th>7</th>\n",
       "      <td>-16.366733</td>\n",
       "    </tr>\n",
       "    <tr>\n",
       "      <th>8</th>\n",
       "      <td>-13.644978</td>\n",
       "    </tr>\n",
       "    <tr>\n",
       "      <th>9</th>\n",
       "      <td>-10.815818</td>\n",
       "    </tr>\n",
       "    <tr>\n",
       "      <th>10</th>\n",
       "      <td>-14.895000</td>\n",
       "    </tr>\n",
       "    <tr>\n",
       "      <th>11</th>\n",
       "      <td>-13.752680</td>\n",
       "    </tr>\n",
       "    <tr>\n",
       "      <th>12</th>\n",
       "      <td>-15.190338</td>\n",
       "    </tr>\n",
       "    <tr>\n",
       "      <th>13</th>\n",
       "      <td>-25.108838</td>\n",
       "    </tr>\n",
       "    <tr>\n",
       "      <th>14</th>\n",
       "      <td>-9.513185</td>\n",
       "    </tr>\n",
       "    <tr>\n",
       "      <th>15</th>\n",
       "      <td>-12.798274</td>\n",
       "    </tr>\n",
       "    <tr>\n",
       "      <th>16</th>\n",
       "      <td>-11.032748</td>\n",
       "    </tr>\n",
       "    <tr>\n",
       "      <th>17</th>\n",
       "      <td>-7.003271</td>\n",
       "    </tr>\n",
       "    <tr>\n",
       "      <th>18</th>\n",
       "      <td>-29.948037</td>\n",
       "    </tr>\n",
       "    <tr>\n",
       "      <th>19</th>\n",
       "      <td>-4.875294</td>\n",
       "    </tr>\n",
       "  </tbody>\n",
       "</table>\n",
       "</div>"
      ],
      "text/plain": [
       "            0\n",
       "0  -58.475323\n",
       "1  -10.617487\n",
       "2  -45.706144\n",
       "3  -20.131911\n",
       "4  -25.863713\n",
       "5    4.279144\n",
       "6   -6.052548\n",
       "7  -16.366733\n",
       "8  -13.644978\n",
       "9  -10.815818\n",
       "10 -14.895000\n",
       "11 -13.752680\n",
       "12 -15.190338\n",
       "13 -25.108838\n",
       "14  -9.513185\n",
       "15 -12.798274\n",
       "16 -11.032748\n",
       "17  -7.003271\n",
       "18 -29.948037\n",
       "19  -4.875294"
      ]
     },
     "execution_count": 20,
     "metadata": {},
     "output_type": "execute_result"
    }
   ],
   "source": [
    "# y_test['residuals'] = y_test['DTT_Fe_Conc_Grade'] - y_test['prediction']\n",
    "residuals = y_test[0] - y_pred_lr\n",
    "residuals = pd.DataFrame(residuals)\n",
    "residuals"
   ]
  },
  {
   "cell_type": "markdown",
   "id": "13d0b62b",
   "metadata": {},
   "source": [
    "## XGB Model"
   ]
  },
  {
   "cell_type": "code",
   "execution_count": 21,
   "id": "6049948e",
   "metadata": {},
   "outputs": [],
   "source": [
    "xgb = XGBRegressor(random_state=42)"
   ]
  },
  {
   "cell_type": "code",
   "execution_count": 22,
   "id": "1b80a893",
   "metadata": {},
   "outputs": [
    {
     "name": "stderr",
     "output_type": "stream",
     "text": [
      "/home/jeraldo/.pyenv/versions/3.8.12/envs/lewagon/lib/python3.8/site-packages/xgboost/data.py:262: FutureWarning: pandas.Int64Index is deprecated and will be removed from pandas in a future version. Use pandas.Index with the appropriate dtype instead.\n",
      "  elif isinstance(data.columns, (pd.Int64Index, pd.RangeIndex)):\n"
     ]
    }
   ],
   "source": [
    "model_xgb = xgb.fit(X_train_lr, y_train_lr)"
   ]
  },
  {
   "cell_type": "code",
   "execution_count": 23,
   "id": "1d45722f",
   "metadata": {},
   "outputs": [],
   "source": [
    "y_pred_xgb = model_xgb.predict(X_test_lr)"
   ]
  },
  {
   "cell_type": "code",
   "execution_count": 24,
   "id": "dc446e5b",
   "metadata": {
    "scrolled": true
   },
   "outputs": [
    {
     "data": {
      "image/png": "[encoded data removed]",
      "text/plain": [
       "<Figure size 432x288 with 1 Axes>"
      ]
     },
     "metadata": {
      "needs_background": "light"
     },
     "output_type": "display_data"
    }
   ],
   "source": [
    "fig, ax = plt.subplots()\n",
    "ax.scatter(y_test, y_pred_xgb)\n",
    "ax.set_xlabel('Actual DTT_Fe_Conc_Grade')\n",
    "ax.set_ylabel('Predicted DTT_Fe_Conc_Grade')\n",
    "ax.set_title('R2: ' + str(r2_score(y_test, y_pred_xgb)))\n",
    "\n",
    "plt.show()"
   ]
  },
  {
   "cell_type": "code",
   "execution_count": 28,
   "id": "e9c524d9",
   "metadata": {},
   "outputs": [
    {
     "data": {
      "text/plain": [
       "array([96.8053232 , 48.9474874 , 84.03614362, 58.46191129, 64.19371296,\n",
       "       34.05085645, 44.38254751, 54.69673279, 51.97497779, 49.14581845,\n",
       "       53.22500017, 52.08268046, 53.52033797, 63.43883847, 47.84318516,\n",
       "       51.12827361, 49.36274823, 45.33327109, 68.27803705, 43.20529378])"
      ]
     },
     "execution_count": 28,
     "metadata": {},
     "output_type": "execute_result"
    }
   ],
   "source": [
    "residuals = y_test_lr[0] - y_pred_lr\n",
    "residuals\n",
    "y_pred_lr"
   ]
  },
  {
   "cell_type": "markdown",
   "id": "2bf4ae39",
   "metadata": {},
   "source": [
    "# Prediction"
   ]
  },
  {
   "cell_type": "code",
   "execution_count": 196,
   "id": "03e6d928",
   "metadata": {},
   "outputs": [
    {
     "data": {
      "text/plain": [
       "(395, 16)"
      ]
     },
     "execution_count": 196,
     "metadata": {},
     "output_type": "execute_result"
    }
   ],
   "source": [
    "# The prediction is conducted with Extreme Gradient Boosting algorithm\n",
    "\n",
    "X_drillholes = pd.read_csv('DB_Fe_conc_predictions_sulfides_ande_L.csv', index_col=[0])\n",
    "X_drillholes.shape"
   ]
  },
  {
   "cell_type": "code",
   "execution_count": 197,
   "id": "2646c4d9",
   "metadata": {},
   "outputs": [],
   "source": [
    "y_pred_drillholes = model_xgb.predict(X_drillholes)"
   ]
  },
  {
   "cell_type": "code",
   "execution_count": 198,
   "id": "75574229",
   "metadata": {},
   "outputs": [
    {
     "data": {
      "text/plain": [
       "numpy.ndarray"
      ]
     },
     "execution_count": 198,
     "metadata": {},
     "output_type": "execute_result"
    }
   ],
   "source": [
    "type(y_pred_drillholes)"
   ]
  },
  {
   "cell_type": "code",
   "execution_count": 199,
   "id": "580dcdb4",
   "metadata": {},
   "outputs": [
    {
     "data": {
      "text/plain": [
       "53.141823"
      ]
     },
     "execution_count": 199,
     "metadata": {},
     "output_type": "execute_result"
    }
   ],
   "source": [
    "np.median(y_pred_drillholes)"
   ]
  },
  {
   "cell_type": "code",
   "execution_count": 200,
   "id": "6885f85f",
   "metadata": {},
   "outputs": [],
   "source": [
    "y_pred_drillholes = pd.DataFrame([y_pred_drillholes]).T"
   ]
  },
  {
   "cell_type": "code",
   "execution_count": 174,
   "id": "14530391",
   "metadata": {},
   "outputs": [],
   "source": [
    "y_pred_drillholes.to_csv('y_pred_drillholes_ande_L.csv')"
   ]
  },
  {
   "cell_type": "code",
   "execution_count": null,
   "id": "b406d50f",
   "metadata": {},
   "outputs": [],
   "source": []
  }
 ],
 "metadata": {
  "kernelspec": {
   "display_name": "Python 3 (ipykernel)",
   "language": "python",
   "name": "python3"
  },
  "language_info": {
   "codemirror_mode": {
    "name": "ipython",
    "version": 3
   },
   "file_extension": ".py",
   "mimetype": "text/x-python",
   "name": "python",
   "nbconvert_exporter": "python",
   "pygments_lexer": "ipython3",
   "version": "3.8.12"
  },
  "toc": {
   "base_numbering": 1,
   "nav_menu": {},
   "number_sections": true,
   "sideBar": true,
   "skip_h1_title": false,
   "title_cell": "Table of Contents",
   "title_sidebar": "Contents",
   "toc_cell": false,
   "toc_position": {},
   "toc_section_display": true,
   "toc_window_display": false
  }
 },
 "nbformat": 4,
 "nbformat_minor": 5
}
